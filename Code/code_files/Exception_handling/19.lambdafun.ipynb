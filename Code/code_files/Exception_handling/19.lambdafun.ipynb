{
 "cells": [
  {
   "cell_type": "markdown",
   "id": "03921c66",
   "metadata": {},
   "source": [
    "#### ✅ What is a Lambda Function in Python?\n",
    "A lambda function in Python is a small, anonymous (unnamed) function defined using the lambda keyword. It can have any number of arguments, but only one expression, which is evaluated and returned.\n",
    "\n",
    "\n",
    "##### ✅ Why Use Lambda Functions?\n",
    "- To write concise code\n",
    "- When you need a function for a short period of time\n",
    "- Commonly used with functions like map(), filter(), sorted(), and reduce()\n",
    "- Avoids the need to define full def functions for simple tasks\n",
    "\n"
   ]
  },
  {
   "cell_type": "code",
   "execution_count": null,
   "id": "72ca39e7",
   "metadata": {},
   "outputs": [
    {
     "name": "stdout",
     "output_type": "stream",
     "text": [
      "30\n"
     ]
    }
   ],
   "source": [
    "sum = lambda x,y : x+y\n",
    "print(sum(10,20))"
   ]
  },
  {
   "cell_type": "code",
   "execution_count": 3,
   "id": "7e0e8e30",
   "metadata": {},
   "outputs": [
    {
     "name": "stdout",
     "output_type": "stream",
     "text": [
      "Full Name : Ali Abid\n"
     ]
    }
   ],
   "source": [
    "fullName = lambda fName,lName: f\"Full Name : {fName} {lName}\"\n",
    "print(fullName(\"Ali\", \"Abid\"))"
   ]
  },
  {
   "cell_type": "code",
   "execution_count": null,
   "id": "51246494",
   "metadata": {},
   "outputs": [
    {
     "name": "stdout",
     "output_type": "stream",
     "text": [
      "('Full Name : Muhammad Bilal', 'Karachi')\n"
     ]
    }
   ],
   "source": [
    "# Function as argument\n",
    "def stdInfo(name, city):\n",
    "    return name, city\n",
    "print(stdInfo(fullName(\"Muhammad\", \"Bilal\"), \"Karachi\"))\n"
   ]
  },
  {
   "cell_type": "code",
   "execution_count": 16,
   "id": "9ac7d2e8",
   "metadata": {},
   "outputs": [
    {
     "name": "stdout",
     "output_type": "stream",
     "text": [
      "30\n"
     ]
    }
   ],
   "source": [
    "# Function as arument\n",
    "\n",
    "num = lambda x: x*2 \n",
    "\n",
    "\n",
    "def value(x,y):\n",
    "    return x+y\n",
    "print(value(num(5), 20))"
   ]
  },
  {
   "cell_type": "code",
   "execution_count": null,
   "id": "bde4d3a0",
   "metadata": {},
   "outputs": [],
   "source": []
  }
 ],
 "metadata": {
  "kernelspec": {
   "display_name": "base",
   "language": "python",
   "name": "python3"
  },
  "language_info": {
   "codemirror_mode": {
    "name": "ipython",
    "version": 3
   },
   "file_extension": ".py",
   "mimetype": "text/x-python",
   "name": "python",
   "nbconvert_exporter": "python",
   "pygments_lexer": "ipython3",
   "version": "3.12.7"
  }
 },
 "nbformat": 4,
 "nbformat_minor": 5
}
