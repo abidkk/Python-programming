{
 "cells": [
  {
   "cell_type": "markdown",
   "id": "f03abf56",
   "metadata": {},
   "source": [
    "# ALI ABID\n",
    "- CLASS TASK \n",
    "- Date: 10/05/2025"
   ]
  },
  {
   "cell_type": "markdown",
   "id": "cfd65a7c",
   "metadata": {},
   "source": [
    "#### Task 1"
   ]
  },
  {
   "cell_type": "code",
   "execution_count": 7,
   "id": "72dccccc",
   "metadata": {},
   "outputs": [
    {
     "name": "stdout",
     "output_type": "stream",
     "text": [
      "Sorry Can not divide by Zero\n"
     ]
    }
   ],
   "source": [
    "v1 = 9\n",
    "v2 = 0\n",
    "\n",
    "try:\n",
    "    res = v1/v2\n",
    "except ZeroDivisionError:\n",
    "    print(\"Sorry Can not divide by Zero\")\n",
    "else:\n",
    "    print(res)"
   ]
  },
  {
   "cell_type": "markdown",
   "id": "4fd8886d",
   "metadata": {},
   "source": [
    "### Task 2"
   ]
  },
  {
   "cell_type": "code",
   "execution_count": 10,
   "id": "717a62df",
   "metadata": {},
   "outputs": [
    {
     "name": "stdout",
     "output_type": "stream",
     "text": [
      "Invalid File Path\n"
     ]
    }
   ],
   "source": [
    "try:\n",
    "    with open(\"notes.txt\", \"r\") as file:\n",
    "        line = file.readline()\n",
    "        print(line)\n",
    "except FileNotFoundError:\n",
    "    print(\"Invalid File Path\")\n",
    "    "
   ]
  },
  {
   "cell_type": "markdown",
   "id": "a7a9b2cd",
   "metadata": {},
   "source": [
    "### Task 3"
   ]
  },
  {
   "cell_type": "code",
   "execution_count": 18,
   "id": "47002b1b",
   "metadata": {},
   "outputs": [
    {
     "name": "stdout",
     "output_type": "stream",
     "text": [
      "Value Error\n"
     ]
    }
   ],
   "source": [
    "try:\n",
    "    val = int(input(\"Please enter a valid integer\"))\n",
    "    print(val)\n",
    "except ValueError:\n",
    "    print(\"Value Error\")"
   ]
  },
  {
   "cell_type": "markdown",
   "id": "76780542",
   "metadata": {},
   "source": [
    "### Task 4"
   ]
  },
  {
   "cell_type": "code",
   "execution_count": 38,
   "id": "5f4b8270",
   "metadata": {},
   "outputs": [
    {
     "name": "stdout",
     "output_type": "stream",
     "text": [
      "Type Error\n"
     ]
    }
   ],
   "source": [
    "try:\n",
    "    val1 = int(input(\"please enter first number\"))\n",
    "    val2 = int(input(\"please enter second number\"))\n",
    "    print(val1, val2)\n",
    "except ValueError:\n",
    "    print(\"Invalid Type \")"
   ]
  }
 ],
 "metadata": {
  "kernelspec": {
   "display_name": "DJCRM",
   "language": "python",
   "name": "python3"
  },
  "language_info": {
   "codemirror_mode": {
    "name": "ipython",
    "version": 3
   },
   "file_extension": ".py",
   "mimetype": "text/x-python",
   "name": "python",
   "nbconvert_exporter": "python",
   "pygments_lexer": "ipython3",
   "version": "3.13.2"
  }
 },
 "nbformat": 4,
 "nbformat_minor": 5
}
