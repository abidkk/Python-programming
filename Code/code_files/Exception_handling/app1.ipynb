{
 "cells": [
  {
   "cell_type": "markdown",
   "id": "9b2571e7",
   "metadata": {},
   "source": [
    "# Exception , Error Handling"
   ]
  },
  {
   "cell_type": "code",
   "execution_count": null,
   "id": "ff11514d",
   "metadata": {},
   "outputs": [
    {
     "name": "stdout",
     "output_type": "stream",
     "text": [
      "['hello\\n', 'Python\\n', 'jAVASCRIPT']\n",
      "100\n"
     ]
    }
   ],
   "source": [
    "try:\n",
    "    with open(\"abc.txt\", \"r\") as file:\n",
    "        line = file.readlines()\n",
    "        print(line)\n",
    "except Exception as error:\n",
    "    print(error)\n",
    "\n",
    "print(100)"
   ]
  },
  {
   "cell_type": "code",
   "execution_count": 7,
   "id": "76046046",
   "metadata": {},
   "outputs": [
    {
     "name": "stdout",
     "output_type": "stream",
     "text": [
      "10\n",
      "5.0\n",
      "else block\n",
      "Output\n",
      "20\n"
     ]
    }
   ],
   "source": [
    "print(10)\n",
    "\n",
    "try:\n",
    "    print(10/2)\n",
    "except Exception as e:\n",
    "    print(e)\n",
    "else:\n",
    "    print(\"else block\")\n",
    "finally:\n",
    "    print(\"Output\")\n",
    "\n",
    "print(20)"
   ]
  },
  {
   "cell_type": "markdown",
   "id": "367028e1",
   "metadata": {},
   "source": [
    "### Zero Division Error"
   ]
  },
  {
   "cell_type": "code",
   "execution_count": 68,
   "id": "6742fd1d",
   "metadata": {},
   "outputs": [
    {
     "name": "stdout",
     "output_type": "stream",
     "text": [
      "Sorry Can not divide by Zero\n"
     ]
    }
   ],
   "source": [
    "v1 = 10\n",
    "v2 = int(input(\"ENTER YOUR NUMBER HERE\"))\n",
    "try:\n",
    "    res = v1/v2\n",
    "except ZeroDivisionError:\n",
    "    print(\"Sorry Can not divide by Zero\")\n",
    "else:\n",
    "    print(res)\n"
   ]
  },
  {
   "cell_type": "markdown",
   "id": "a5a5d46b",
   "metadata": {},
   "source": [
    "### General Error Handling"
   ]
  },
  {
   "cell_type": "code",
   "execution_count": 65,
   "id": "825e174f",
   "metadata": {},
   "outputs": [
    {
     "name": "stdout",
     "output_type": "stream",
     "text": [
      "Error: list index out of range\n"
     ]
    }
   ],
   "source": [
    "values = [10,20,30]\n",
    "try:\n",
    "    print(values[5])\n",
    "except Exception as e:\n",
    "    print(f\"Error: {e}\")"
   ]
  },
  {
   "cell_type": "code",
   "execution_count": null,
   "id": "c8022efb",
   "metadata": {},
   "outputs": [],
   "source": []
  }
 ],
 "metadata": {
  "kernelspec": {
   "display_name": "base",
   "language": "python",
   "name": "python3"
  },
  "language_info": {
   "codemirror_mode": {
    "name": "ipython",
    "version": 3
   },
   "file_extension": ".py",
   "mimetype": "text/x-python",
   "name": "python",
   "nbconvert_exporter": "python",
   "pygments_lexer": "ipython3",
   "version": "3.12.7"
  }
 },
 "nbformat": 4,
 "nbformat_minor": 5
}
