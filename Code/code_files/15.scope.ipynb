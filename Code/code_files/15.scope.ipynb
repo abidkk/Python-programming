{
 "cells": [
  {
   "cell_type": "markdown",
   "id": "4fb1b9e4",
   "metadata": {},
   "source": [
    "# Scope"
   ]
  },
  {
   "cell_type": "markdown",
   "id": "614f1bb0",
   "metadata": {},
   "source": [
    "### Variable Scope \n",
    "- Global\n",
    "- Local\n",
    "- Enclosing\n",
    "\n"
   ]
  },
  {
   "cell_type": "code",
   "execution_count": 5,
   "id": "f8a30817",
   "metadata": {},
   "outputs": [
    {
     "name": "stdout",
     "output_type": "stream",
     "text": [
      "Local Variable : inside 200\n",
      "Global Variable: inside 10\n",
      "Global Variable : outside : 10\n"
     ]
    }
   ],
   "source": [
    "x = 10 # Global Vraiable\n",
    "\n",
    "def greet():\n",
    "    y = 200 # Local Scope\n",
    "\n",
    "    print(f\"Local Variable : inside {y}\") # accessing local variable  inside\n",
    "    print(f\"Global Variable: inside {x}\") # accessing Global variable inside\n",
    "    \n",
    "greet() # calling function\n",
    "\n",
    "print(f\"Global Variable : outside : {x}\") # Global variable outside\n",
    "\n",
    "# print(f\"Local Variable : outside : {y}\") # Global variable outside # NameError\n",
    "\n"
   ]
  },
  {
   "cell_type": "markdown",
   "id": "761ec239",
   "metadata": {},
   "source": [
    "- Nested : Enclosing Scope"
   ]
  },
  {
   "cell_type": "code",
   "execution_count": null,
   "id": "fd101c43",
   "metadata": {},
   "outputs": [
    {
     "name": "stdout",
     "output_type": "stream",
     "text": [
      "Local Variable: 50\n",
      "Global Variable 20\n",
      "Enclosing Variable 30\n"
     ]
    }
   ],
   "source": [
    "x = 20\n",
    "\n",
    "def scoope():\n",
    "    y = 30\n",
    "    def nestScope():\n",
    "        z = 50\n",
    "        print(f\"Local Variable: {z}\")\n",
    "        print(f\"Global Variable {x}\")\n",
    "        print(f\"Enclosing Variable {y}\")\n",
    "    nestScope() \n",
    "\n",
    "scoope()"
   ]
  },
  {
   "cell_type": "markdown",
   "id": "56d7d6ac",
   "metadata": {},
   "source": [
    "### Modifing Global Variable\n",
    "\n"
   ]
  },
  {
   "cell_type": "code",
   "execution_count": 17,
   "id": "a99e21e8",
   "metadata": {},
   "outputs": [
    {
     "name": "stdout",
     "output_type": "stream",
     "text": [
      "Inner: 200\n",
      "Outer: 10\n"
     ]
    }
   ],
   "source": [
    "x = 10\n",
    "\n",
    "def check1():\n",
    "    \n",
    "    x = 200 # Modify or new variable \n",
    "    print(f\"Inner: {x}\")\n",
    "    \n",
    "check1()\n",
    "print(f\"Outer: {x}\") # 10 : not modified\n",
    "\n",
    "     "
   ]
  },
  {
   "cell_type": "code",
   "execution_count": null,
   "id": "93b28603",
   "metadata": {},
   "outputs": [
    {
     "name": "stdout",
     "output_type": "stream",
     "text": [
      "Inner: 500\n",
      "Outer Modified: 500\n"
     ]
    }
   ],
   "source": [
    "# referencing global variable\n",
    "    \n",
    "z = 50\n",
    "    \n",
    "def check2():\n",
    "    \n",
    "    # referenceing to Global varibale\n",
    "    global z \n",
    "    z = 500\n",
    "    print(f\"Inner: {z}\")\n",
    "    \n",
    "check2()\n",
    "\n",
    "print(f\"Outer Modified: {z}\") # Modified"
   ]
  },
  {
   "cell_type": "code",
   "execution_count": 25,
   "id": "2ace8a1c",
   "metadata": {},
   "outputs": [
    {
     "name": "stdout",
     "output_type": "stream",
     "text": [
      "False\n",
      "True\n"
     ]
    }
   ],
   "source": [
    "a = [10,20,30]\n",
    "b = [10,20,30]\n",
    "\n",
    "print(a is b)\n",
    "print( a == b)"
   ]
  },
  {
   "cell_type": "code",
   "execution_count": null,
   "id": "75596f03",
   "metadata": {},
   "outputs": [],
   "source": []
  },
  {
   "cell_type": "code",
   "execution_count": null,
   "metadata": {},
   "outputs": [],
   "source": []
  },
  {
   "cell_type": "code",
   "execution_count": null,
   "id": "432ab86b",
   "metadata": {},
   "outputs": [],
   "source": []
  }
 ],
 "metadata": {
  "kernelspec": {
   "display_name": "base",
   "language": "python",
   "name": "python3"
  },
  "language_info": {
   "codemirror_mode": {
    "name": "ipython",
    "version": 3
   },
   "file_extension": ".py",
   "mimetype": "text/x-python",
   "name": "python",
   "nbconvert_exporter": "python",
   "pygments_lexer": "ipython3",
   "version": "3.12.7"
  }
 },
 "nbformat": 4,
 "nbformat_minor": 5
}
