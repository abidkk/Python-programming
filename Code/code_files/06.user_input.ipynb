{
 "cells": [
  {
   "cell_type": "markdown",
   "metadata": {},
   "source": [
    "# User input in Oython\n",
    "- input()\n",
    "- ### Note: Input field value is treated as str by default"
   ]
  },
  {
   "cell_type": "markdown",
   "metadata": {},
   "source": [
    "### Code"
   ]
  },
  {
   "cell_type": "code",
   "execution_count": 3,
   "metadata": {},
   "outputs": [
    {
     "name": "stdout",
     "output_type": "stream",
     "text": [
      "AAbid Khokhar <class 'str'>\n"
     ]
    }
   ],
   "source": [
    "# Example 1\n",
    "user_name = input(\"Please enter your name:\")\n",
    "print(user_name, type(user_name))"
   ]
  },
  {
   "cell_type": "code",
   "execution_count": 6,
   "metadata": {},
   "outputs": [
    {
     "name": "stdout",
     "output_type": "stream",
     "text": [
      "AAbid Khokhar Karachi\n"
     ]
    }
   ],
   "source": [
    "# Example 2\n",
    "\n",
    "name = input(\"Please enter your name: \")\n",
    "city = input(\"Please enter your city: \")\n",
    "print(name, city)"
   ]
  },
  {
   "cell_type": "code",
   "execution_count": 13,
   "metadata": {},
   "outputs": [
    {
     "name": "stdout",
     "output_type": "stream",
     "text": [
      "10 20\n",
      "1020\n",
      "30\n",
      "<class 'int'>\n"
     ]
    }
   ],
   "source": [
    "# Example 3\n",
    "\n",
    "n1 = input(\"Please enter first num: \")\n",
    "n2 = input(\"Please enter second num: \")\n",
    "\n",
    "print(n1, n2)\n",
    "print(n1+n2) # concate not added\n",
    "\n",
    "# Note: Input field convert the type to str by default\n",
    "\n",
    "# to perform Math operation we need to convert input type\n",
    "add = int(n1) + int(n2)\n",
    "print(add) # added\n",
    "print(type(add))"
   ]
  },
  {
   "cell_type": "code",
   "execution_count": 16,
   "metadata": {},
   "outputs": [
    {
     "name": "stdout",
     "output_type": "stream",
     "text": [
      "20 <class 'int'>\n",
      "30 <class 'int'>\n",
      "50\n"
     ]
    }
   ],
   "source": [
    "# Example 4\n",
    "\n",
    "v1 = int(input(\"Please enter first value: \"))\n",
    "v2 = int(input(\"Please enter second value: \"))\n",
    "print(v1, type(v1))\n",
    "print(v2, type(v2))\n",
    "print(v1+v2)"
   ]
  },
  {
   "cell_type": "code",
   "execution_count": null,
   "metadata": {},
   "outputs": [],
   "source": []
  }
 ],
 "metadata": {
  "kernelspec": {
   "display_name": "Python 3",
   "language": "python",
   "name": "python3"
  },
  "language_info": {
   "codemirror_mode": {
    "name": "ipython",
    "version": 3
   },
   "file_extension": ".py",
   "mimetype": "text/x-python",
   "name": "python",
   "nbconvert_exporter": "python",
   "pygments_lexer": "ipython3",
   "version": "3.13.2"
  }
 },
 "nbformat": 4,
 "nbformat_minor": 2
}
