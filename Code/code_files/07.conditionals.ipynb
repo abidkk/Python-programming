{
 "cells": [
  {
   "cell_type": "markdown",
   "metadata": {},
   "source": [
    "# Conditionals : if, elif, else"
   ]
  },
  {
   "cell_type": "markdown",
   "metadata": {},
   "source": [
    "# IF"
   ]
  },
  {
   "cell_type": "code",
   "execution_count": 3,
   "metadata": {},
   "outputs": [
    {
     "name": "stdout",
     "output_type": "stream",
     "text": [
      "Less\n"
     ]
    }
   ],
   "source": [
    "x = 8\n",
    "\n",
    "# example 1 : if\n",
    "if (x < 10):\n",
    "    print(\"Less\")\n",
    "\n",
    "\n",
    "# example 2 : if \n",
    "    if (x > 10):\n",
    "        print(\"Greater\")"
   ]
  },
  {
   "cell_type": "markdown",
   "metadata": {},
   "source": [
    "# IF, Else"
   ]
  },
  {
   "cell_type": "code",
   "execution_count": 5,
   "metadata": {},
   "outputs": [
    {
     "name": "stdout",
     "output_type": "stream",
     "text": [
      "Incorrect sername\n"
     ]
    }
   ],
   "source": [
    "username = \"AAbid\"\n",
    "\n",
    "if(username == \"Adam\"): # change name here\n",
    "    print(\"Welcome\")\n",
    "else:\n",
    "    print(\"Incorrect sername\")"
   ]
  },
  {
   "cell_type": "markdown",
   "metadata": {},
   "source": [
    "# IF, Elif, Else"
   ]
  },
  {
   "cell_type": "code",
   "execution_count": 8,
   "metadata": {},
   "outputs": [
    {
     "name": "stdout",
     "output_type": "stream",
     "text": [
      "Welcome\n"
     ]
    }
   ],
   "source": [
    "role = \"Admin\"\n",
    "\n",
    "if role == \"Worker\":\n",
    "    print(\"Workers do not have access\")\n",
    "elif role == \"Admin\":\n",
    "    print(\"Welcome\")\n",
    "else:\n",
    "    print(\"Incorrect\")"
   ]
  },
  {
   "cell_type": "markdown",
   "metadata": {},
   "source": [
    "# Nested if else"
   ]
  },
  {
   "cell_type": "code",
   "execution_count": null,
   "metadata": {},
   "outputs": [
    {
     "name": "stdout",
     "output_type": "stream",
     "text": [
      "Incorrect id\n"
     ]
    }
   ],
   "source": [
    "username = \"Adam\"\n",
    "id = 1001\n",
    "\n",
    "# Conditions\n",
    "if username == \"Adam\":\n",
    "    if id == 1001: # Nested condition\n",
    "        print(\"Welcome Adam, 1001\")\n",
    "    else:\n",
    "        print(\"Incorrect id\")\n",
    "        \n",
    "else:\n",
    "    print(\"Incorrect username\")"
   ]
  },
  {
   "cell_type": "code",
   "execution_count": null,
   "metadata": {},
   "outputs": [],
   "source": []
  }
 ],
 "metadata": {
  "kernelspec": {
   "display_name": "Python 3",
   "language": "python",
   "name": "python3"
  },
  "language_info": {
   "codemirror_mode": {
    "name": "ipython",
    "version": 3
   },
   "file_extension": ".py",
   "mimetype": "text/x-python",
   "name": "python",
   "nbconvert_exporter": "python",
   "pygments_lexer": "ipython3",
   "version": "3.13.2"
  }
 },
 "nbformat": 4,
 "nbformat_minor": 2
}
