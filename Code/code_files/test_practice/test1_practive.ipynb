{
 "cells": [
  {
   "cell_type": "markdown",
   "id": "687c6147",
   "metadata": {},
   "source": [
    "### Q1: Student Report Card Generator\n",
    "- Topics Covered: Variables, Lists, Conditional Statements, Logical Operators\n",
    "Task:\n",
    "Write a Python program that:\n",
    "\n",
    "Asks the user to input student name and marks for 5 subjects.\n",
    "\n",
    "Stores marks in a list.\n",
    "\n",
    "Calculates the average marks.\n",
    "\n",
    "Prints the student’s result as:\n",
    "\n",
    "Distinction (if average >= 80)\n",
    "\n",
    "First Division (average between 60–79)\n",
    "\n",
    "Second Division (average between 40–59)\n",
    "\n",
    "Fail (average below 40)"
   ]
  },
  {
   "cell_type": "code",
   "execution_count": null,
   "id": "b6207529",
   "metadata": {},
   "outputs": [
    {
     "name": "stdout",
     "output_type": "stream",
     "text": [
      "[90, 77, 88, 80, 85]\n",
      "84.0\n",
      "Sudent Name: Abid Ali Khokhar, Obtained Marks: 420, Average Mark: 84.0 Grade: A+\n"
     ]
    }
   ],
   "source": [
    "marks = []\n",
    "student_name = input(\"Please Enter Your Name: \")\n",
    "grade = None\n",
    "avg_marks = None\n",
    "obtained_marks = None\n",
    "\n",
    "# Getting makrs \n",
    "for i in range(1,6):\n",
    "   mark = int(input(f\"Please enter marks {i}\"))\n",
    "   marks.append(mark)\n",
    "\n",
    "# Calculating total and average Makrs\n",
    "obtained_marks = sum(marks)\n",
    "avg_marks = obtained_marks/len(marks)\n",
    "\n",
    "# grade formating \n",
    "if avg_marks <= 60:\n",
    "    grade = \"Fail\"\n",
    "elif avg_marks <= 70:\n",
    "    grade = \"B\"\n",
    "elif avg_marks <= 80:\n",
    "    grade = \"A\"\n",
    "elif avg_marks <= 90:\n",
    "    grade = \"A+\"\n",
    "else:\n",
    "    grade = \"Invalid Marks\"\n",
    "    \n",
    "print(f\"Sudent Name: {student_name}, Obtained Marks: {obtained_marks}, Average Mark: {avg_marks} Grade: {grade}\")"
   ]
  },
  {
   "cell_type": "code",
   "execution_count": null,
   "id": "b7c7a67f",
   "metadata": {},
   "outputs": [
    {
     "name": "stdout",
     "output_type": "stream",
     "text": [
      "Sudent Name: Ali Khokhar, Obtained Marks: 410, Average Mark: 82.0 Grade: A+\n"
     ]
    }
   ],
   "source": [
    "def marksheet():\n",
    "    marks = []\n",
    "    student_name = input(\"Please Enter Your Name: \")\n",
    "    grade = None\n",
    "    avg_marks = None\n",
    "    obtained_marks = None\n",
    "\n",
    "    # Getting makrs \n",
    "    for i in range(1,6):\n",
    "        mark = int(input(f\"Please enter marks {i}\"))\n",
    "        marks.append(mark)\n",
    "\n",
    "    # Calculating total and average Makrs\n",
    "    obtained_marks = sum(marks)\n",
    "    avg_marks = obtained_marks/len(marks)\n",
    "\n",
    "    # grade formating \n",
    "    if avg_marks <= 60:\n",
    "        grade = \"Fail\"\n",
    "    elif avg_marks <= 70:\n",
    "        grade = \"B\"\n",
    "    elif avg_marks <= 80:\n",
    "        grade = \"A\"\n",
    "    elif avg_marks <= 90:\n",
    "        grade = \"A+\"\n",
    "    else:\n",
    "        grade = \"Invalid Marks\"\n",
    "    \n",
    "    print(f\"Sudent Name: {student_name}, Obtained Marks: {obtained_marks}, Average Mark: {avg_marks} Grade: {grade}\")\n",
    "\n",
    "# calling Function\n",
    "marksheet()"
   ]
  },
  {
   "cell_type": "code",
   "execution_count": 16,
   "id": "035a9fea",
   "metadata": {},
   "outputs": [
    {
     "name": "stdout",
     "output_type": "stream",
     "text": [
      "Sudent Name: Abid, Obtained Marks: 399, Average Mark: 79.8 Grade: A\n"
     ]
    }
   ],
   "source": [
    "\n",
    "marksheet()"
   ]
  },
  {
   "cell_type": "markdown",
   "id": "84a82c5f",
   "metadata": {},
   "source": [
    "### Q2: Simple Calculator\n",
    "Topics Covered: Variables, Operators, Conditional Statements, Logical Operators\n",
    "Task:\n",
    "Create a calculator that:\n",
    "\n",
    "Takes two numbers and an operator from the user (+, -, *, /).\n",
    "\n",
    "Performs the operation and shows the result.\n",
    "\n",
    "Use conditional statements to handle each operator.\n",
    "\n",
    "Handle division by zero using a condition.\n",
    "\n"
   ]
  },
  {
   "cell_type": "code",
   "execution_count": null,
   "id": "da829b47",
   "metadata": {},
   "outputs": [
    {
     "name": "stdout",
     "output_type": "stream",
     "text": [
      "Division: of 90 and 9 = 10.0\n"
     ]
    }
   ],
   "source": [
    "num1 = int(input(\"Please Enter First Value: \"))\n",
    "num2 = int(input(\"Please Enter Second Value: \"))\n",
    "ope = input(\"Please enter an operator: (+,-,*,/) \")\n",
    "available_ope = ['+', '-', '*', '/']\n",
    "\n",
    "# Performing operating\n",
    "if ope not in available_ope:\n",
    "    print(\"Invalid Operator\")\n",
    "else:\n",
    "    if ope == \"+\":\n",
    "        print(f\"Addition: of {num1} and {num2} = {num1 + num2}\")\n",
    "    elif ope == \"-\":\n",
    "        print(f\"Subtraction: of {num1} and {num2} = {num1 - num2}\")\n",
    "    elif ope == \"*\":\n",
    "        print(f\"Multiplication: of {num1} and {num2} = {num1 * num2}\")\n",
    "    elif ope == \"/\":\n",
    "        if num1 == 0 or num2 == 0:\n",
    "            print(\"Zero Divison Error\")\n",
    "        else:\n",
    "            print(f\"Division: of {num1} and {num2} = {num1 / num2}\")"
   ]
  },
  {
   "cell_type": "code",
   "execution_count": null,
   "id": "403cb7d0",
   "metadata": {},
   "outputs": [],
   "source": []
  }
 ],
 "metadata": {
  "kernelspec": {
   "display_name": "Python 3",
   "language": "python",
   "name": "python3"
  },
  "language_info": {
   "codemirror_mode": {
    "name": "ipython",
    "version": 3
   },
   "file_extension": ".py",
   "mimetype": "text/x-python",
   "name": "python",
   "nbconvert_exporter": "python",
   "pygments_lexer": "ipython3",
   "version": "3.13.2"
  }
 },
 "nbformat": 4,
 "nbformat_minor": 5
}
