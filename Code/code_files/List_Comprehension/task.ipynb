{
 "cells": [
  {
   "cell_type": "markdown",
   "id": "a5cbe1a3",
   "metadata": {},
   "source": [
    "### TASK\n",
    "\n",
    "- List comprehension\n",
    "-  Ali Abid\n",
    "-  Date: 11-05-2025"
   ]
  },
  {
   "cell_type": "markdown",
   "id": "e2d15945",
   "metadata": {},
   "source": [
    "### Task1"
   ]
  },
  {
   "cell_type": "code",
   "execution_count": null,
   "id": "06c2ffe8",
   "metadata": {},
   "outputs": [
    {
     "name": "stdout",
     "output_type": "stream",
     "text": [
      "[1, 4, 9, 16, 25, 36, 49, 64, 81, 100]\n"
     ]
    }
   ],
   "source": [
    "squars = [i*i for i in range(1,11)]\n",
    "print(squars)"
   ]
  },
  {
   "cell_type": "markdown",
   "id": "f1e2e6d7",
   "metadata": {},
   "source": [
    "### Task2"
   ]
  },
  {
   "cell_type": "code",
   "execution_count": null,
   "id": "32fb18ce",
   "metadata": {},
   "outputs": [
    {
     "name": "stdout",
     "output_type": "stream",
     "text": [
      "[4, 16, 36, 64, 100]\n"
     ]
    }
   ],
   "source": [
    "evens = [x for x in squars if x%2==0]\n",
    "print(evens)"
   ]
  },
  {
   "cell_type": "markdown",
   "id": "f271eec7",
   "metadata": {},
   "source": [
    "### Task3"
   ]
  },
  {
   "cell_type": "code",
   "execution_count": null,
   "id": "6adc2d69",
   "metadata": {},
   "outputs": [
    {
     "name": "stdout",
     "output_type": "stream",
     "text": [
      "['RED', 'GREEN', 'BLUE', 'WHITE', 'BLACK']\n"
     ]
    }
   ],
   "source": [
    "colors = [\"red\", \"green\", \"blue\", \"white\", \"black\"]\n",
    "\n",
    "upperColor = [x.upper() for x in colors ]\n",
    "print(upperColor)\n"
   ]
  },
  {
   "cell_type": "markdown",
   "id": "ccab6674",
   "metadata": {},
   "source": [
    "### Task4"
   ]
  },
  {
   "cell_type": "code",
   "execution_count": 14,
   "id": "f3fc8f17",
   "metadata": {},
   "outputs": [
    {
     "name": "stdout",
     "output_type": "stream",
     "text": [
      "[1, 2, 4, 4, 5, 6, 7, 8, 9]\n"
     ]
    }
   ],
   "source": [
    "nums = [[1,2,4], [4,5,6], [7,8,9]]\n",
    "\n",
    "flat_list = [x for subList in nums for x in subList ]\n",
    "print(flat_list)"
   ]
  },
  {
   "cell_type": "code",
   "execution_count": null,
   "id": "28f9b1c7",
   "metadata": {},
   "outputs": [],
   "source": []
  }
 ],
 "metadata": {
  "kernelspec": {
   "display_name": "DJCRM",
   "language": "python",
   "name": "python3"
  },
  "language_info": {
   "codemirror_mode": {
    "name": "ipython",
    "version": 3
   },
   "file_extension": ".py",
   "mimetype": "text/x-python",
   "name": "python",
   "nbconvert_exporter": "python",
   "pygments_lexer": "ipython3",
   "version": "3.13.2"
  }
 },
 "nbformat": 4,
 "nbformat_minor": 5
}
