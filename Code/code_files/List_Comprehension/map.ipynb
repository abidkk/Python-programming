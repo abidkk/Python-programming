{
 "cells": [
  {
   "cell_type": "markdown",
   "id": "ba749efe",
   "metadata": {},
   "source": [
    "- ALI ABID\n",
    "- Task: Map, Filter"
   ]
  },
  {
   "cell_type": "code",
   "execution_count": 4,
   "id": "7e415470",
   "metadata": {},
   "outputs": [
    {
     "name": "stdout",
     "output_type": "stream",
     "text": [
      "[['s', 'a', 't'], ['s', 'u', 'n'], ['m', 'o', 'n']]\n"
     ]
    }
   ],
   "source": [
    "days = [\"sat\", \"sun\", \"mon\"]\n",
    "\n",
    "liist = map(list, days)\n",
    "print(list(liist))"
   ]
  },
  {
   "cell_type": "markdown",
   "id": "8d46fce2",
   "metadata": {},
   "source": [
    "### Task1"
   ]
  },
  {
   "cell_type": "code",
   "execution_count": 12,
   "id": "2f883634",
   "metadata": {},
   "outputs": [
    {
     "name": "stdout",
     "output_type": "stream",
     "text": [
      "[2, 4, 6, 8, 10, 12, 14]\n"
     ]
    }
   ],
   "source": [
    "nums = [1,2,3,4,5,6,7]\n",
    "\n",
    "def mul(x):\n",
    "   return x*2\n",
    "\n",
    "mulNums = map(mul, nums)\n",
    "print(list(mulNums))"
   ]
  },
  {
   "cell_type": "markdown",
   "id": "fb8edeb3",
   "metadata": {},
   "source": [
    "### Task2"
   ]
  },
  {
   "cell_type": "code",
   "execution_count": 13,
   "id": "0c8f00f4",
   "metadata": {},
   "outputs": [
    {
     "name": "stdout",
     "output_type": "stream",
     "text": [
      "['1', '2', '3', '4', '5', '6', '7']\n"
     ]
    }
   ],
   "source": [
    "nums = [1,2,3,4,5,6,7]\n",
    "\n",
    "def conv(x):\n",
    "    return str(x)\n",
    "\n",
    "converted = map(conv, nums)\n",
    "print(list(converted))"
   ]
  },
  {
   "cell_type": "markdown",
   "id": "24bcf93c",
   "metadata": {},
   "source": [
    "### Task3"
   ]
  },
  {
   "cell_type": "code",
   "execution_count": 15,
   "id": "824387eb",
   "metadata": {},
   "outputs": [
    {
     "name": "stdout",
     "output_type": "stream",
     "text": [
      "[3, 5, 6, 6]\n"
     ]
    }
   ],
   "source": [
    "colors = [\"red\", \"black\", \"yellow\", \"orange\"]\n",
    "\n",
    "def lenStr(x):\n",
    "    return len(x)\n",
    "\n",
    "strLen = map(lenStr, colors)\n",
    "print(list(strLen))"
   ]
  },
  {
   "cell_type": "markdown",
   "id": "50fb8d30",
   "metadata": {},
   "source": [
    "### Task4"
   ]
  },
  {
   "cell_type": "code",
   "execution_count": 26,
   "id": "60b8f7d5",
   "metadata": {},
   "outputs": [
    {
     "name": "stdout",
     "output_type": "stream",
     "text": [
      "['apple', 'orange', 'umbrella', 'elephant']\n",
      "['apple', 'orange', 'umbrella', 'elephant']\n"
     ]
    }
   ],
   "source": [
    "fruits = [\"apple\", \"banana\", \"orange\", \"umbrella\", \"grape\", \"elephant\"]\n",
    "\n",
    "\n",
    "def vow_fru(x):\n",
    "   y =  x[0].lower()\n",
    "   z = y in \"aeiou\"\n",
    "   return z\n",
    "   \n",
    "vowel_fruits = filter(vow_fru, fruits )\n",
    "print(list(vowel_fruits))\n",
    "\n",
    "\n",
    "# using lambda \n",
    "vow_fru = list(filter(lambda word:word[0].lower() in \"aeiou\",fruits))\n",
    "print(vow_fru)"
   ]
  },
  {
   "cell_type": "markdown",
   "id": "ef21b714",
   "metadata": {},
   "source": [
    "### Task5"
   ]
  },
  {
   "cell_type": "code",
   "execution_count": null,
   "id": "e66b419a",
   "metadata": {},
   "outputs": [
    {
     "name": "stdout",
     "output_type": "stream",
     "text": [
      "[3, 6, 9, 12, 15]\n"
     ]
    }
   ],
   "source": [
    "nums = [1,2,3,4,5,6,7,8,9,10,11,12,13,14,15]\n",
    "divisible = list(filter(lambda x: x%3==0, nums))\n",
    "print(divisible)"
   ]
  },
  {
   "cell_type": "code",
   "execution_count": null,
   "id": "5d37e163",
   "metadata": {},
   "outputs": [],
   "source": []
  }
 ],
 "metadata": {
  "kernelspec": {
   "display_name": "DJCRM",
   "language": "python",
   "name": "python3"
  },
  "language_info": {
   "codemirror_mode": {
    "name": "ipython",
    "version": 3
   },
   "file_extension": ".py",
   "mimetype": "text/x-python",
   "name": "python",
   "nbconvert_exporter": "python",
   "pygments_lexer": "ipython3",
   "version": "3.13.2"
  }
 },
 "nbformat": 4,
 "nbformat_minor": 5
}
