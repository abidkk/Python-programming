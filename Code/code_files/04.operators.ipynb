{
 "cells": [
  {
   "cell_type": "markdown",
   "metadata": {},
   "source": [
    "# Operators in Python 🐍\n",
    "- Operators are used to perform operations on variables and values.\n",
    "\n",
    "### Types of Operators\n",
    "\n",
    " 1️⃣ Arithmetic Operators (+, -, *, /, etc.)\n",
    "\n",
    " 2️⃣ Comparison Operators (==, !=, >, <, etc.)\n",
    "\n",
    " 3️⃣ Logical Operators (and, or, not)\n",
    "\n",
    " 4️⃣ Assignment Operators (=, +=, -=, etc.)\n",
    "\n",
    " 5️⃣ Bitwise Operators (&, |, ^, ~, <<, >>)\n",
    "\n",
    " 6️⃣ Membership Operators (in, not in)\n",
    " \n",
    " 7️⃣ Identity Operators (is, is not)"
   ]
  },
  {
   "cell_type": "markdown",
   "metadata": {},
   "source": [
    "### Code"
   ]
  },
  {
   "cell_type": "markdown",
   "metadata": {},
   "source": [
    "    1️⃣ Arithmetic Operators: +, -, *, /, %, **, //"
   ]
  },
  {
   "cell_type": "code",
   "execution_count": null,
   "metadata": {},
   "outputs": [
    {
     "name": "stdout",
     "output_type": "stream",
     "text": [
      "13\n",
      "7\n",
      "30\n",
      "3.3333333333333335\n",
      "1\n",
      "1000\n",
      "3\n"
     ]
    }
   ],
   "source": [
    "a = 10\n",
    "b = 3\n",
    "\n",
    "print(a + b)  # 13 (Addition)\n",
    "print(a - b)  # 7 (Subtraction)\n",
    "print(a * b)  # 30 (Multiplication)\n",
    "print(a / b)  # 3.3333 (Division)\n",
    "print(a % b)  # 1 (Modulus - remainder)\n",
    "print(a ** b) # 1000 (Exponentiation)\n",
    "print(a // b) # 3 (Floor Division - rounds down)\n"
   ]
  },
  {
   "cell_type": "markdown",
   "metadata": {},
   "source": [
    "    2️⃣ Comparison Operators: ==, != >, <, >=, <=  "
   ]
  },
  {
   "cell_type": "code",
   "execution_count": 2,
   "metadata": {},
   "outputs": [
    {
     "name": "stdout",
     "output_type": "stream",
     "text": [
      "False\n",
      "True\n",
      "False\n",
      "True\n",
      "False\n",
      "True\n"
     ]
    }
   ],
   "source": [
    "x = 5\n",
    "y = 10\n",
    "print(x == y)  # False (Equal to)\n",
    "print(x != y)  # True (Not equal to)\n",
    "print(x > y)   # False (Greater than)\n",
    "print(x < y)   # True (Less than)\n",
    "print(x >= y)  # False (Greater than or equal to)\n",
    "print(x <= y)  # True (Less than or equal to)\n"
   ]
  },
  {
   "cell_type": "markdown",
   "metadata": {},
   "source": [
    "    3️⃣ Logical Operators (and, or, not)"
   ]
  },
  {
   "cell_type": "code",
   "execution_count": 7,
   "metadata": {},
   "outputs": [
    {
     "name": "stdout",
     "output_type": "stream",
     "text": [
      "False\n",
      "True\n",
      "False\n",
      "False\n",
      "True\n"
     ]
    }
   ],
   "source": [
    "a = True\n",
    "b = False\n",
    "print(a and b)  # False (Both must be True)\n",
    "print(a or b)   # True (At least one is True)\n",
    "print(not a)    # False (Reverses the value)\n",
    "\n",
    "\n",
    "# some more examples\n",
    "x1 = 100\n",
    "x2 = 200\n",
    "print(x1 > x2 and x1 > 10) # False\n",
    "print(x1 < x2 and x1 > 10)  # True\n"
   ]
  },
  {
   "cell_type": "markdown",
   "metadata": {},
   "source": [
    "    4️⃣ Assignment Operators (=, +=, -=, etc.)"
   ]
  },
  {
   "cell_type": "code",
   "execution_count": 9,
   "metadata": {},
   "outputs": [
    {
     "name": "stdout",
     "output_type": "stream",
     "text": [
      "30\n"
     ]
    }
   ],
   "source": [
    "# Assing value =\n",
    "x = 10\n",
    "\n",
    "# add and assing\n",
    "x += 20\n",
    "\n",
    "# print\n",
    "print(x) # 30 "
   ]
  },
  {
   "cell_type": "markdown",
   "metadata": {},
   "source": [
    "    5️⃣ Bitwise Operators (&, |, ^, ~, <<, >>)"
   ]
  },
  {
   "cell_type": "code",
   "execution_count": 10,
   "metadata": {},
   "outputs": [
    {
     "name": "stdout",
     "output_type": "stream",
     "text": [
      "1\n",
      "7\n",
      "6\n",
      "-6\n",
      "10\n",
      "2\n"
     ]
    }
   ],
   "source": [
    "a = 5  # 0101 in binary\n",
    "b = 3  # 0011 in binary\n",
    "\n",
    "print(a & b)  # 1 (AND - 0001)\n",
    "print(a | b)  # 7 (OR - 0111)\n",
    "print(a ^ b)  # 6 (XOR - 0110)\n",
    "print(~a)     # -6 (NOT - Inverts bits)\n",
    "print(a << 1) # 10 (Left shift)\n",
    "print(a >> 1) # 2 (Right shift)\n"
   ]
  },
  {
   "cell_type": "markdown",
   "metadata": {},
   "source": [
    "    6️⃣ Membership Operators (in, not in)\n",
    "Used to check if a value exists in a sequence (list, tuple, etc.).\n",
    "\n"
   ]
  },
  {
   "cell_type": "code",
   "execution_count": 11,
   "metadata": {},
   "outputs": [
    {
     "name": "stdout",
     "output_type": "stream",
     "text": [
      "True\n",
      "True\n"
     ]
    }
   ],
   "source": [
    "fruits = [\"apple\", \"banana\", \"cherry\"]\n",
    "print(\"apple\" in fruits)   # True\n",
    "print(\"mango\" not in fruits)  # True\n"
   ]
  },
  {
   "cell_type": "markdown",
   "metadata": {},
   "source": [
    "    7️⃣ Identity Operators (is, is not)\n",
    "Used to compare memory locations of two objects.\n",
    "\n",
    "\n"
   ]
  },
  {
   "cell_type": "code",
   "execution_count": 12,
   "metadata": {},
   "outputs": [
    {
     "name": "stdout",
     "output_type": "stream",
     "text": [
      "True\n",
      "False\n",
      "True\n"
     ]
    }
   ],
   "source": [
    "x = [1, 2, 3]\n",
    "y = x\n",
    "z = [1, 2, 3]\n",
    "\n",
    "print(x is y)   # True (Same object in memory)\n",
    "print(x is z)   # False (Different objects, same content)\n",
    "print(x is not z)  # True\n"
   ]
  },
  {
   "cell_type": "code",
   "execution_count": null,
   "metadata": {},
   "outputs": [],
   "source": []
  }
 ],
 "metadata": {
  "kernelspec": {
   "display_name": "Python 3",
   "language": "python",
   "name": "python3"
  },
  "language_info": {
   "codemirror_mode": {
    "name": "ipython",
    "version": 3
   },
   "file_extension": ".py",
   "mimetype": "text/x-python",
   "name": "python",
   "nbconvert_exporter": "python",
   "pygments_lexer": "ipython3",
   "version": "3.13.2"
  }
 },
 "nbformat": 4,
 "nbformat_minor": 2
}
