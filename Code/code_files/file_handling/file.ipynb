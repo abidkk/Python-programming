{
 "cells": [
  {
   "cell_type": "markdown",
   "id": "31a84b33",
   "metadata": {},
   "source": [
    "# File Handling"
   ]
  },
  {
   "cell_type": "markdown",
   "id": "abfd5fa1",
   "metadata": {},
   "source": [
    "# Reading File"
   ]
  },
  {
   "cell_type": "code",
   "execution_count": 34,
   "id": "00a708cc",
   "metadata": {},
   "outputs": [
    {
     "name": "stdout",
     "output_type": "stream",
     "text": [
      "Hello, Java\n"
     ]
    }
   ],
   "source": [
    "file = open('abc.txt', 'r')\n",
    "\n",
    "# Iterating lines\n",
    "for line in file:\n",
    "    print(line)\n",
    "    \n",
    "file.close()   \n"
   ]
  },
  {
   "cell_type": "code",
   "execution_count": 36,
   "id": "8d846b15",
   "metadata": {},
   "outputs": [
    {
     "name": "stdout",
     "output_type": "stream",
     "text": [
      "H\n",
      "e\n",
      "l\n",
      "l\n",
      "o\n",
      ",\n",
      " \n",
      "J\n",
      "a\n",
      "v\n",
      "a\n"
     ]
    }
   ],
   "source": [
    "file = open('abc.txt', 'r')\n",
    "# Iterating each character using nested loop\n",
    "for line in file:\n",
    "    for c in line:\n",
    "        print(c)\n",
    "file.close()"
   ]
  },
  {
   "cell_type": "code",
   "execution_count": null,
   "id": "373c5083",
   "metadata": {},
   "outputs": [
    {
     "name": "stdout",
     "output_type": "stream",
     "text": [
      "Hello Python\n",
      "\n",
      "['Hello', 'Python']\n"
     ]
    }
   ],
   "source": [
    "# Open the file and read its contents\n",
    "with open('abc.txt', 'r') as file:\n",
    "    lines = file.readline()\n",
    "    print(lines)\n",
    "    sp = lines.split()\n",
    "    print(sp)"
   ]
  },
  {
   "cell_type": "markdown",
   "id": "068aa21a",
   "metadata": {},
   "source": [
    "# Writing File"
   ]
  },
  {
   "cell_type": "code",
   "execution_count": null,
   "id": "3116caab",
   "metadata": {},
   "outputs": [],
   "source": [
    "# Open the file and read its contents \n",
    "with open('abc.txt', 'w') as file:\n",
    "    file.write(\"Hello, Java\")"
   ]
  },
  {
   "cell_type": "code",
   "execution_count": 33,
   "id": "f0e62a25",
   "metadata": {},
   "outputs": [
    {
     "name": "stdout",
     "output_type": "stream",
     "text": [
      "Hello, Java\n"
     ]
    }
   ],
   "source": [
    "with open('abc.txt', 'r') as file:\n",
    "    content = file.read()\n",
    "    print(content)"
   ]
  },
  {
   "cell_type": "markdown",
   "id": "85ad3cc7",
   "metadata": {},
   "source": [
    "# Append Text"
   ]
  },
  {
   "cell_type": "code",
   "execution_count": null,
   "id": "53303834",
   "metadata": {},
   "outputs": [],
   "source": [
    "# \n",
    "with open('abc.txt', 'a') as file:\n",
    "    file.write(\"\\n Hello, Python\")"
   ]
  },
  {
   "cell_type": "code",
   "execution_count": 43,
   "id": "c0364e88",
   "metadata": {},
   "outputs": [],
   "source": [
    "with open('abc.txt', 'a') as file:\n",
    "    file.write(\"\\n Hello, Javascript\")"
   ]
  },
  {
   "cell_type": "code",
   "execution_count": 44,
   "id": "1225d486",
   "metadata": {},
   "outputs": [
    {
     "name": "stdout",
     "output_type": "stream",
     "text": [
      "\n",
      " Hello, Python\n",
      " Hello, Javascript\n"
     ]
    }
   ],
   "source": [
    "# Open the file and read its contents\n",
    "with open('abc.txt', 'r') as file:\n",
    "    content = file.read()\n",
    "    print(content)"
   ]
  }
 ],
 "metadata": {
  "kernelspec": {
   "display_name": "base",
   "language": "python",
   "name": "python3"
  },
  "language_info": {
   "codemirror_mode": {
    "name": "ipython",
    "version": 3
   },
   "file_extension": ".py",
   "mimetype": "text/x-python",
   "name": "python",
   "nbconvert_exporter": "python",
   "pygments_lexer": "ipython3",
   "version": "3.12.7"
  }
 },
 "nbformat": 4,
 "nbformat_minor": 5
}
