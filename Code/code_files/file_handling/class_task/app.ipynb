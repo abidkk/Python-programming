{
 "cells": [
  {
   "cell_type": "markdown",
   "id": "c1f944fd",
   "metadata": {},
   "source": [
    "### 1. Write a Python program to read an entire text file."
   ]
  },
  {
   "cell_type": "code",
   "execution_count": 5,
   "id": "2287f625",
   "metadata": {},
   "outputs": [
    {
     "name": "stdout",
     "output_type": "stream",
     "text": [
      "Hello Python,\n",
      "Hello Javascript,\n",
      "Hello Java\n"
     ]
    }
   ],
   "source": [
    "with open('file1.txt', 'r') as file:\n",
    "    content = file.read()\n",
    "    \n",
    "    print(content)"
   ]
  },
  {
   "cell_type": "markdown",
   "id": "91fb3e8d",
   "metadata": {},
   "source": [
    "### 2. Write a Python program to append text to a file and display the text.3. "
   ]
  },
  {
   "cell_type": "code",
   "execution_count": null,
   "id": "fcb4f277",
   "metadata": {},
   "outputs": [
    {
     "name": "stdout",
     "output_type": "stream",
     "text": [
      "Hello Python,\n",
      "Hello Javascript,\n",
      "Hello Java\n",
      "Hello Pakistan\n"
     ]
    }
   ],
   "source": [
    "with open('file1.txt', 'a') as file:\n",
    "    file.write('\\nHello Pakistan,')\n",
    "    \n",
    "with open('file1.txt', 'r') as file:\n",
    "    content = file.read()\n",
    "    print(content)"
   ]
  },
  {
   "cell_type": "markdown",
   "id": "333f4a5d",
   "metadata": {},
   "source": [
    "### 3. Write a Python program to read a file line by line and store it into a list"
   ]
  },
  {
   "cell_type": "code",
   "execution_count": null,
   "id": "2854b1f9",
   "metadata": {},
   "outputs": [
    {
     "name": "stdout",
     "output_type": "stream",
     "text": [
      "['Hello', 'Python,']\n",
      "['Hello', 'Javascript,']\n",
      "['Hello', 'Java,']\n",
      "['Hello', 'Pakistan,']\n"
     ]
    }
   ],
   "source": [
    "with open('file1.txt', 'r') as file:\n",
    "    content = file.readlines()\n",
    "    for line in content:\n",
    "        print(line)\n",
    "        \n",
    "        text_list = line.split()\n",
    "        print(text_list)"
   ]
  },
  {
   "cell_type": "markdown",
   "id": "268c8c3d",
   "metadata": {},
   "source": [
    "### 4.Write a python program to find the longest words."
   ]
  },
  {
   "cell_type": "code",
   "execution_count": 31,
   "id": "4513d838",
   "metadata": {},
   "outputs": [
    {
     "name": "stdout",
     "output_type": "stream",
     "text": [
      "11\n"
     ]
    }
   ],
   "source": [
    "# Simple Python program to find longest word(s) in a file\n",
    "\n",
    "file = open(\"file1.txt\", \"r\")  # Open the file in read mode\n",
    "words = file.read().split()     # Read content and split into words\n",
    "file.close()\n",
    "\n",
    "max_len = max(len(word) for word in words)  # Find maximum word length\n",
    "print(max_len)\n",
    "\n"
   ]
  },
  {
   "cell_type": "code",
   "execution_count": 60,
   "id": "943fc611",
   "metadata": {},
   "outputs": [
    {
     "name": "stdout",
     "output_type": "stream",
     "text": [
      "Longest: Javascript,\n"
     ]
    }
   ],
   "source": [
    "with open('file1.txt', 'r') as file:\n",
    "    content = file.read()\n",
    "    words = content.split()\n",
    "    longest = max(words, key=len)\n",
    "    print(\"Longest:\", longest)\n"
   ]
  },
  {
   "cell_type": "code",
   "execution_count": null,
   "id": "fa737dea",
   "metadata": {},
   "outputs": [],
   "source": []
  }
 ],
 "metadata": {
  "kernelspec": {
   "display_name": "base",
   "language": "python",
   "name": "python3"
  },
  "language_info": {
   "codemirror_mode": {
    "name": "ipython",
    "version": 3
   },
   "file_extension": ".py",
   "mimetype": "text/x-python",
   "name": "python",
   "nbconvert_exporter": "python",
   "pygments_lexer": "ipython3",
   "version": "3.12.7"
  }
 },
 "nbformat": 4,
 "nbformat_minor": 5
}
