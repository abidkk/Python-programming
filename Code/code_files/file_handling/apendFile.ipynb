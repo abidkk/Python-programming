{
 "cells": [
  {
   "cell_type": "markdown",
   "id": "8cefcacd",
   "metadata": {},
   "source": [
    "# Append Text in File"
   ]
  },
  {
   "cell_type": "code",
   "execution_count": 6,
   "id": "88ae5da4",
   "metadata": {},
   "outputs": [],
   "source": [
    "with open(\"apendFile.txt\", \"a\") as file:\n",
    "    file.write(\"Hello, Python \\n\")\n",
    "    file.write(\"Hello, Javascript \\n\")\n",
    "    file.write(\"Hello there I am learning Javascript. \\n\")\n",
    "    "
   ]
  },
  {
   "cell_type": "code",
   "execution_count": 8,
   "id": "b87562e7",
   "metadata": {},
   "outputs": [],
   "source": [
    "file = open(\"apendFile.txt\", \"a\")\n",
    "file.write(\"I am AAbid Khokhar\")\n",
    "\n",
    "file.close()"
   ]
  },
  {
   "cell_type": "markdown",
   "id": "ac15cefb",
   "metadata": {},
   "source": [
    "### reading the append File"
   ]
  },
  {
   "cell_type": "code",
   "execution_count": 13,
   "id": "4a714a34",
   "metadata": {},
   "outputs": [
    {
     "name": "stdout",
     "output_type": "stream",
     "text": [
      "Hello,Python \n",
      "\n",
      "Hello, Python \n",
      "\n",
      "Hello, Javascript \n",
      "\n",
      "Hello there I am learning Javascript. \n",
      "\n",
      "I am AAbid Khokhar\n"
     ]
    }
   ],
   "source": [
    "with open(\"apendFile.txt\", 'r') as file:\n",
    "    lines = file.readlines()\n",
    "    \n",
    "    for line in lines:\n",
    "        print(line)"
   ]
  },
  {
   "cell_type": "code",
   "execution_count": null,
   "id": "5cd7d044",
   "metadata": {},
   "outputs": [],
   "source": []
  }
 ],
 "metadata": {
  "kernelspec": {
   "display_name": "base",
   "language": "python",
   "name": "python3"
  },
  "language_info": {
   "codemirror_mode": {
    "name": "ipython",
    "version": 3
   },
   "file_extension": ".py",
   "mimetype": "text/x-python",
   "name": "python",
   "nbconvert_exporter": "python",
   "pygments_lexer": "ipython3",
   "version": "3.12.7"
  }
 },
 "nbformat": 4,
 "nbformat_minor": 5
}
