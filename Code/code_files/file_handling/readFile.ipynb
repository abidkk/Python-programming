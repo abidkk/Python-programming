{
 "cells": [
  {
   "cell_type": "markdown",
   "id": "b932cf9c",
   "metadata": {},
   "source": [
    "# Python File Handling"
   ]
  },
  {
   "cell_type": "markdown",
   "id": "7b7f9a74",
   "metadata": {},
   "source": [
    "### Reading File"
   ]
  },
  {
   "cell_type": "markdown",
   "id": "7372d30c",
   "metadata": {},
   "source": [
    "####  -- Method 1"
   ]
  },
  {
   "cell_type": "markdown",
   "id": "a537e4ca",
   "metadata": {},
   "source": [
    "    Reading File Info"
   ]
  },
  {
   "cell_type": "code",
   "execution_count": 8,
   "id": "76675da9",
   "metadata": {},
   "outputs": [
    {
     "name": "stdout",
     "output_type": "stream",
     "text": [
      "<_io.TextIOWrapper name='readFile.txt' mode='r' encoding='utf-8'>\n",
      "readFile.txt\n",
      "r\n"
     ]
    }
   ],
   "source": [
    "file = open(\"readFile.txt\", \"r\")\n",
    "print(file) # file info\n",
    "print(file.name) # file name\n",
    "print(file.mode) # file mode\n",
    "\n",
    "file.close()  # closing File"
   ]
  },
  {
   "cell_type": "markdown",
   "id": "1ddd17a0",
   "metadata": {},
   "source": [
    "    Readline, Readlines"
   ]
  },
  {
   "cell_type": "code",
   "execution_count": null,
   "id": "657147b4",
   "metadata": {},
   "outputs": [
    {
     "name": "stdout",
     "output_type": "stream",
     "text": [
      "Hello World\n",
      "\n",
      "['Hello Pakistan\\n', 'Hello Python\\n', 'Hello, I am Learning Python, File Handling in Python']\n"
     ]
    }
   ],
   "source": [
    "file = open(\"readFile.txt\", \"r\")\n",
    "\n",
    "line = file.readline() # read first line\n",
    "print(line)\n",
    "\n",
    "\n",
    "lines = file.readlines() # read all lines return list of string\n",
    "print(lines)\n",
    "\n",
    "\n",
    "file.close()"
   ]
  },
  {
   "cell_type": "markdown",
   "id": "96fa0011",
   "metadata": {},
   "source": [
    "    Reading File (Lines) using For loop"
   ]
  },
  {
   "cell_type": "code",
   "execution_count": null,
   "id": "3da98a79",
   "metadata": {},
   "outputs": [
    {
     "name": "stdout",
     "output_type": "stream",
     "text": [
      "Hello World\n",
      "\n",
      "Hello Pakistan\n",
      "\n",
      "Hello Python\n",
      "\n",
      "Hello, I am Learning Python, File Handling in Python\n"
     ]
    }
   ],
   "source": [
    "file = open(\"readFile.txt\", \"r\")\n",
    "for line in file:\n",
    "    print(line)\n",
    "file.close()"
   ]
  },
  {
   "cell_type": "markdown",
   "id": "b8a5c916",
   "metadata": {},
   "source": [
    "### -- Method 2\n",
    "\n",
    "-  No need to close"
   ]
  },
  {
   "cell_type": "code",
   "execution_count": 29,
   "id": "76ca666b",
   "metadata": {},
   "outputs": [
    {
     "name": "stdout",
     "output_type": "stream",
     "text": [
      "Hello World\n",
      "\n",
      "['Hello Pakistan\\n', 'Hello Python\\n', 'Hello, I am Learning Python, File Handling in Python']\n",
      "Hello Pakistan\n",
      "\n",
      "Hello Python\n",
      "\n",
      "Hello, I am Learning Python, File Handling in Python\n"
     ]
    }
   ],
   "source": [
    "with open(\"readFile.txt\", 'r') as file:\n",
    "    \n",
    "    # reading first line\n",
    "    line = file.readline()\n",
    "    print(line)\n",
    "    \n",
    "    # reading all  return array of string\n",
    "    lines = file.readlines()\n",
    "    print(lines)\n",
    "    \n",
    "    \n",
    "    # Iterating line\n",
    "    for lin in lines:\n",
    "        print(lin)\n",
    "        "
   ]
  },
  {
   "cell_type": "markdown",
   "id": "1c1699a6",
   "metadata": {},
   "source": [
    "### -- Split()"
   ]
  },
  {
   "cell_type": "code",
   "execution_count": 49,
   "id": "66433cfc",
   "metadata": {},
   "outputs": [
    {
     "name": "stdout",
     "output_type": "stream",
     "text": [
      "Hello World\n",
      "\n",
      "['Hello', 'World']\n"
     ]
    }
   ],
   "source": [
    "file = open(\"readFile.txt\", \"r\")\n",
    "\n",
    "line = file.readline()\n",
    "print(line)\n",
    "sp = line.split()\n",
    "\n",
    "print(sp)\n",
    "\n",
    "file.close()"
   ]
  },
  {
   "cell_type": "code",
   "execution_count": null,
   "id": "529eea62",
   "metadata": {},
   "outputs": [],
   "source": []
  }
 ],
 "metadata": {
  "kernelspec": {
   "display_name": "base",
   "language": "python",
   "name": "python3"
  },
  "language_info": {
   "codemirror_mode": {
    "name": "ipython",
    "version": 3
   },
   "file_extension": ".py",
   "mimetype": "text/x-python",
   "name": "python",
   "nbconvert_exporter": "python",
   "pygments_lexer": "ipython3",
   "version": "3.12.7"
  }
 },
 "nbformat": 4,
 "nbformat_minor": 5
}
