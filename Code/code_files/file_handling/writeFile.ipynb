{
 "cells": [
  {
   "cell_type": "markdown",
   "id": "5bd63890",
   "metadata": {},
   "source": [
    "# Writing File"
   ]
  },
  {
   "cell_type": "code",
   "execution_count": 2,
   "id": "47296df7",
   "metadata": {},
   "outputs": [],
   "source": [
    "# writin new file\n",
    "with open('wFile.txt', 'w') as file:\n",
    "    file.write(\"Hello, Python, I am learning Python file handling.\")"
   ]
  },
  {
   "cell_type": "code",
   "execution_count": 6,
   "id": "ad0c624c",
   "metadata": {},
   "outputs": [],
   "source": [
    "file = open(\"wFile2.txt\", \"w\")\n",
    "file.write(\"Hello, there I am learning Data Structures.\")\n",
    "file.close()\n"
   ]
  },
  {
   "cell_type": "markdown",
   "id": "c1960d59",
   "metadata": {},
   "source": [
    "### Reading the created files"
   ]
  },
  {
   "cell_type": "code",
   "execution_count": 8,
   "id": "9c1e3af9",
   "metadata": {},
   "outputs": [
    {
     "name": "stdout",
     "output_type": "stream",
     "text": [
      "['Hello, Python, I am learning Python file handling.']\n"
     ]
    }
   ],
   "source": [
    "with open(\"wFile.txt\", \"r\") as file:\n",
    "    lines = file.readlines()\n",
    "    print(lines)"
   ]
  },
  {
   "cell_type": "code",
   "execution_count": 9,
   "id": "69dbf020",
   "metadata": {},
   "outputs": [
    {
     "name": "stdout",
     "output_type": "stream",
     "text": [
      "['Hello, there I am learning Data Structures.']\n"
     ]
    }
   ],
   "source": [
    "with open(\"wFile2.txt\", \"r\") as file:\n",
    "    lines = file.readlines()\n",
    "    print(lines)"
   ]
  }
 ],
 "metadata": {
  "kernelspec": {
   "display_name": "base",
   "language": "python",
   "name": "python3"
  },
  "language_info": {
   "codemirror_mode": {
    "name": "ipython",
    "version": 3
   },
   "file_extension": ".py",
   "mimetype": "text/x-python",
   "name": "python",
   "nbconvert_exporter": "python",
   "pygments_lexer": "ipython3",
   "version": "3.12.7"
  }
 },
 "nbformat": 4,
 "nbformat_minor": 5
}
