{
 "cells": [
  {
   "cell_type": "markdown",
   "metadata": {},
   "source": [
    "# Python Variables \n",
    "\n",
    "- Variables: Variables are the containers used to hold data for example myName, age, city\n",
    "\n",
    "\n",
    "# Python Literals\n",
    "- Literals are representations of fixed values in a program. They can be numbers, characters, or strings, etc. For example, 'Hello, World!', 12, 23.0, 'C', etc.\n",
    "\n",
    "Example :\n",
    "\n",
    "    myName = \"AAbid\"\n",
    "    my_age = 24\n",
    "\n",
    "\n",
    "- In the above two examples \"myName\" & \"my_age\" are variables and the values \"AAbid\" & \"24\" are Literals "
   ]
  },
  {
   "cell_type": "markdown",
   "metadata": {},
   "source": [
    "### code"
   ]
  },
  {
   "cell_type": "code",
   "execution_count": null,
   "metadata": {},
   "outputs": [
    {
     "name": "stdout",
     "output_type": "stream",
     "text": [
      "AAbid\n",
      "24\n"
     ]
    }
   ],
   "source": [
    "# Assigning values to variables\n",
    "myName = \"AAbid\"\n",
    "my_age = 24\n",
    "\n",
    "# Printing Variables\n",
    "print(myName)\n",
    "print(my_age)\n"
   ]
  },
  {
   "cell_type": "markdown",
   "metadata": {},
   "source": [
    "# Variable Naming Conventions in Python 🐍\n",
    "- To write clean and readable code, follow these best practices for naming variables in Python."
   ]
  },
  {
   "cell_type": "markdown",
   "metadata": {},
   "source": [
    "- Naming Rules:\n",
    "  1. Must start with a letter (a-z, A-Z or _ )\n",
    "  2. Can not start with Number (1name ) incorrect\n",
    "  3. Do not use special Characters in Variable (name#1)\n",
    "  4. Can not use Language Reserved Keyword as Variable (class, def, for)\n",
    "  5. Case Sensetive mean the variable name & Name are completely Different\n",
    "  6. Varaible Naming Cases:\n",
    "      - camelCase : First word lowercase, next words capitalized.\n",
    "      - snake_case : Use lowercase words separated by underscores (_).\n",
    "      - PascalCase : Every word starts with a capital letter.\n",
    "    \n",
    "\n"
   ]
  },
  {
   "cell_type": "markdown",
   "metadata": {},
   "source": [
    "### Code"
   ]
  },
  {
   "cell_type": "code",
   "execution_count": null,
   "metadata": {},
   "outputs": [
    {
     "name": "stdout",
     "output_type": "stream",
     "text": [
      "AAbid Adam Zoha\n",
      "19 20\n"
     ]
    }
   ],
   "source": [
    "userName1 = \"AAbid\" # Camel Case\n",
    "user_name2 = \"Adam\" # snake case\n",
    "UserName3 = \"Zoha\" # Pascal Case\n",
    "print(userName1, user_name2, UserName3)\n",
    "\n",
    "\n",
    "# Case Sensetivity\n",
    "age = 19\n",
    "Age = 20\n",
    "print(age, Age)"
   ]
  },
  {
   "cell_type": "markdown",
   "metadata": {},
   "source": [
    "# Reassign or Redeclare \n",
    "\n",
    "- Python allows reassignment without needing to declare a variable again."
   ]
  },
  {
   "cell_type": "code",
   "execution_count": null,
   "metadata": {},
   "outputs": [
    {
     "name": "stdout",
     "output_type": "stream",
     "text": [
      "AAbid\n",
      "Sultan\n"
     ]
    }
   ],
   "source": [
    "# assign value\n",
    "myName = \"AAbid\"\n",
    "print(myName)\n",
    "\n",
    "myName = \"Sultan\"  # Reassigneing new value\n",
    "print(myName)"
   ]
  }
 ],
 "metadata": {
  "kernelspec": {
   "display_name": "Python 3",
   "language": "python",
   "name": "python3"
  },
  "language_info": {
   "codemirror_mode": {
    "name": "ipython",
    "version": 3
   },
   "file_extension": ".py",
   "mimetype": "text/x-python",
   "name": "python",
   "nbconvert_exporter": "python",
   "pygments_lexer": "ipython3",
   "version": "3.13.2"
  }
 },
 "nbformat": 4,
 "nbformat_minor": 2
}
