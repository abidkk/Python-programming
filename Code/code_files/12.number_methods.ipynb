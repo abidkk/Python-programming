{
 "cells": [
  {
   "cell_type": "markdown",
   "id": "955d33ca",
   "metadata": {},
   "source": [
    "# Number Methods "
   ]
  },
  {
   "cell_type": "markdown",
   "id": "b15d906c",
   "metadata": {},
   "source": [
    "## 1. String to int, float conversion"
   ]
  },
  {
   "cell_type": "code",
   "execution_count": 8,
   "id": "71f7fd48",
   "metadata": {},
   "outputs": [
    {
     "name": "stdout",
     "output_type": "stream",
     "text": [
      "<class 'str'> 10\n",
      "<class 'int'> 10\n",
      "<class 'float'> 10.0\n"
     ]
    }
   ],
   "source": [
    "x = \"10\"\n",
    "print(type(x),x)\n",
    "\n",
    "# converting string to int\n",
    "inted = int(x)\n",
    "print(type(inted), inted)\n",
    "\n",
    "# converting to float\n",
    "floated = float(x)\n",
    "print(type(floated), floated)\n",
    "\n"
   ]
  },
  {
   "cell_type": "markdown",
   "id": "1debf3cd",
   "metadata": {},
   "source": [
    "## 2.Int to flaot, string"
   ]
  },
  {
   "cell_type": "code",
   "execution_count": 12,
   "id": "7e15c167",
   "metadata": {},
   "outputs": [
    {
     "name": "stdout",
     "output_type": "stream",
     "text": [
      "<class 'int'> 100\n",
      "<class 'float'> 100.0\n",
      "<class 'str'> 100\n"
     ]
    }
   ],
   "source": [
    "x1 = 100\n",
    "print(type(x1), x1)\n",
    "\n",
    "# Converting to flaot\n",
    "x1_floated = float(x1)\n",
    "print(type(x1_floated ), x1_floated )\n",
    "\n",
    "# converting to String\n",
    "x1_string = str(x1)\n",
    "print(type(x1_string), x1_string)\n"
   ]
  },
  {
   "cell_type": "markdown",
   "id": "621d24e5",
   "metadata": {},
   "source": [
    "## 3.flaot to int and string"
   ]
  },
  {
   "cell_type": "code",
   "execution_count": 16,
   "id": "41b601bb",
   "metadata": {},
   "outputs": [
    {
     "name": "stdout",
     "output_type": "stream",
     "text": [
      "<class 'float'> 10.25\n",
      "<class 'int'> 10\n",
      "<class 'str'> 10.25\n"
     ]
    }
   ],
   "source": [
    "x2 = 10.25\n",
    "print(type(x2), x2)\n",
    "\n",
    "\n",
    "# converting to int\n",
    "x2_inted = int(x2)\n",
    "print(type(x2_inted), x2_inted)\n",
    "\n",
    "# converting to string\n",
    "\n",
    "x2_stringed = str(x2)\n",
    "print(type(x2_stringed), x2_stringed)\n"
   ]
  },
  {
   "cell_type": "markdown",
   "id": "e4444b5f",
   "metadata": {},
   "source": [
    "## 4. abs() : return absolute value\n"
   ]
  },
  {
   "cell_type": "code",
   "execution_count": 22,
   "id": "7c04daf3",
   "metadata": {},
   "outputs": [
    {
     "name": "stdout",
     "output_type": "stream",
     "text": [
      "-101\n",
      "101\n"
     ]
    }
   ],
   "source": [
    "z1 = -101\n",
    "\n",
    "print(z1) # -101\n",
    "print(abs(z1)) # 101"
   ]
  },
  {
   "cell_type": "markdown",
   "id": "3d9dada6",
   "metadata": {},
   "source": [
    "## 5. pow() : return power of a number "
   ]
  },
  {
   "cell_type": "code",
   "execution_count": null,
   "id": "5f66d9c1",
   "metadata": {},
   "outputs": [
    {
     "name": "stdout",
     "output_type": "stream",
     "text": [
      "25\n"
     ]
    }
   ],
   "source": [
    "num1 = 5\n",
    "print(pow(num1,2)) # num , power  5x5 = 25"
   ]
  }
 ],
 "metadata": {
  "kernelspec": {
   "display_name": "Python 3",
   "language": "python",
   "name": "python3"
  },
  "language_info": {
   "codemirror_mode": {
    "name": "ipython",
    "version": 3
   },
   "file_extension": ".py",
   "mimetype": "text/x-python",
   "name": "python",
   "nbconvert_exporter": "python",
   "pygments_lexer": "ipython3",
   "version": "3.13.2"
  }
 },
 "nbformat": 4,
 "nbformat_minor": 5
}
