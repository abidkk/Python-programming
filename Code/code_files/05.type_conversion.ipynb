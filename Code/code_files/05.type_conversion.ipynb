{
 "cells": [
  {
   "cell_type": "markdown",
   "metadata": {},
   "source": [
    "# Python Type Conversion | Type Casting\n",
    "In programming, type conversion is the process of converting data of one type to another. \n",
    "- For example: converting str to int.\n",
    "\n",
    "There are two types of type conversion in Python.\n",
    "\n",
    "1. Implicit Conversion - automatic type conversion\n",
    "2. Explicit Conversion - manual type conversion"
   ]
  },
  {
   "cell_type": "markdown",
   "metadata": {},
   "source": [
    "### 1. Implicit Type Conversion:"
   ]
  },
  {
   "cell_type": "markdown",
   "metadata": {},
   "source": [
    "    1. int to float"
   ]
  },
  {
   "cell_type": "code",
   "execution_count": 16,
   "metadata": {},
   "outputs": [
    {
     "name": "stdout",
     "output_type": "stream",
     "text": [
      "15.2\n",
      "<class 'float'>\n"
     ]
    }
   ],
   "source": [
    "num1 = 10\n",
    "num2 = 5.20\n",
    "addition = num1 + num2\n",
    "print(addition)\n",
    "print(type(addition)) # float "
   ]
  },
  {
   "cell_type": "markdown",
   "metadata": {},
   "source": [
    "### 2. Explicit Type Conversion:"
   ]
  },
  {
   "cell_type": "markdown",
   "metadata": {},
   "source": [
    "    2. str to int"
   ]
  },
  {
   "cell_type": "code",
   "execution_count": 17,
   "metadata": {},
   "outputs": [
    {
     "name": "stdout",
     "output_type": "stream",
     "text": [
      "100\n",
      "<class 'str'>\n",
      "100\n",
      "<class 'int'>\n"
     ]
    }
   ],
   "source": [
    "# Str to Int\n",
    "\n",
    "num1_str = \"100\"\n",
    "print(num1_str)\n",
    "print(type(num1_str)) # str\n",
    "\n",
    "\n",
    "# converting to integer\n",
    "\n",
    "num1_int = int(num1_str)\n",
    "print(num1_int)\n",
    "print(type(num1_int)) # int"
   ]
  },
  {
   "cell_type": "markdown",
   "metadata": {},
   "source": [
    "    3. int to str"
   ]
  },
  {
   "cell_type": "code",
   "execution_count": 18,
   "metadata": {},
   "outputs": [
    {
     "name": "stdout",
     "output_type": "stream",
     "text": [
      "100 <class 'int'>\n",
      "100 <class 'str'>\n"
     ]
    }
   ],
   "source": [
    "# int to str\n",
    "\n",
    "n1 = 100\n",
    "print(n1, type(n1)) # int\n",
    "\n",
    "# converting to str\n",
    "n1_str = str(n1)\n",
    "print(n1_str, type(n1_str)) # str"
   ]
  },
  {
   "cell_type": "markdown",
   "metadata": {},
   "source": [
    "    4. flaot to Str\n",
    "    "
   ]
  },
  {
   "cell_type": "code",
   "execution_count": 21,
   "metadata": {},
   "outputs": [
    {
     "name": "stdout",
     "output_type": "stream",
     "text": [
      "10.2 <class 'float'>\n",
      "10.2 <class 'str'>\n"
     ]
    }
   ],
   "source": [
    "n2 = 10.20\n",
    "print(n2, type(n2)) # int\n",
    "\n",
    "# converting to flaot\n",
    "n2_str = str(n2)\n",
    "print(n2_str, type(n2_str)) # str"
   ]
  },
  {
   "cell_type": "markdown",
   "metadata": {},
   "source": [
    "    5. str to flaot"
   ]
  },
  {
   "cell_type": "code",
   "execution_count": 24,
   "metadata": {},
   "outputs": [
    {
     "name": "stdout",
     "output_type": "stream",
     "text": [
      "1001 <class 'str'>\n",
      "1001.0 <class 'float'>\n"
     ]
    }
   ],
   "source": [
    "val = '1001'\n",
    "print(val, type(val))\n",
    "\n",
    "\n",
    "# converting str to flaot\n",
    "val_f = float(val)\n",
    "print(val_f, type(val_f))\n"
   ]
  }
 ],
 "metadata": {
  "kernelspec": {
   "display_name": "Python 3",
   "language": "python",
   "name": "python3"
  },
  "language_info": {
   "codemirror_mode": {
    "name": "ipython",
    "version": 3
   },
   "file_extension": ".py",
   "mimetype": "text/x-python",
   "name": "python",
   "nbconvert_exporter": "python",
   "pygments_lexer": "ipython3",
   "version": "3.13.2"
  }
 },
 "nbformat": 4,
 "nbformat_minor": 2
}
