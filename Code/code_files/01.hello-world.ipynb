{
 "cells": [
  {
   "cell_type": "markdown",
   "metadata": {},
   "source": [
    "# Python Hello World"
   ]
  },
  {
   "cell_type": "code",
   "execution_count": 2,
   "metadata": {},
   "outputs": [
    {
     "name": "stdout",
     "output_type": "stream",
     "text": [
      "Hello World!\n",
      "Hello, Pakistan!\n",
      "Python Programming\n"
     ]
    }
   ],
   "source": [
    "print(\"Hello World!\")\n",
    "print(\"Hello, Pakistan!\")\n",
    "print(\"Python Programming\")"
   ]
  },
  {
   "cell_type": "markdown",
   "metadata": {},
   "source": [
    "# Intro To Python"
   ]
  },
  {
   "cell_type": "markdown",
   "metadata": {},
   "source": [
    "Python is a high-level, interpreted programming language known for its simplicity, readability, and versatility. It was created by Guido van Rossum and first released in 1991. Python is widely used for web development, data science, machine learning, automation, scripting, and more.\n",
    "\n",
    "Key Features of Python:\n",
    "- Easy to Read and Write: Uses simple and clear syntax.\n",
    "\n",
    "- Interpreted: Executes code line by line, making debugging easier.\n",
    "\n",
    "- Dynamically Typed: No need to declare variable types.\n",
    "\n",
    "- Versatile: Used in various fields like AI, web development, and automation.\n",
    "\n",
    "- Extensive Libraries: Has powerful libraries like NumPy, Pandas, TensorFlow, Flask, etc.\n",
    "\n",
    "- Open Source: Free to use and modify.\n",
    "\n",
    "- Large Community Support: A vast community provides support and resources."
   ]
  }
 ],
 "metadata": {
  "kernelspec": {
   "display_name": "Python 3",
   "language": "python",
   "name": "python3"
  },
  "language_info": {
   "codemirror_mode": {
    "name": "ipython",
    "version": 3
   },
   "file_extension": ".py",
   "mimetype": "text/x-python",
   "name": "python",
   "nbconvert_exporter": "python",
   "pygments_lexer": "ipython3",
   "version": "3.13.2"
  }
 },
 "nbformat": 4,
 "nbformat_minor": 2
}
