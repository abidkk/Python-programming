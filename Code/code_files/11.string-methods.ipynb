{
 "cells": [
  {
   "cell_type": "markdown",
   "metadata": {},
   "source": [
    "# String Methods"
   ]
  },
  {
   "cell_type": "markdown",
   "metadata": {},
   "source": [
    "1. str.lower()\n",
    "- Converts all characters in the string to lowercase."
   ]
  },
  {
   "cell_type": "code",
   "execution_count": 5,
   "metadata": {},
   "outputs": [
    {
     "name": "stdout",
     "output_type": "stream",
     "text": [
      "hello world\n"
     ]
    }
   ],
   "source": [
    "text = \"HELLO world\"\n",
    "print(text.lower())  "
   ]
  },
  {
   "cell_type": "markdown",
   "metadata": {},
   "source": [
    "2. str.upper()\n",
    "- Converts all characters in the string to uppercase."
   ]
  },
  {
   "cell_type": "code",
   "execution_count": 6,
   "metadata": {},
   "outputs": [
    {
     "name": "stdout",
     "output_type": "stream",
     "text": [
      "HELLO WORLD\n"
     ]
    }
   ],
   "source": [
    "text = \"HELLO world\"\n",
    "print(text.upper())  "
   ]
  },
  {
   "cell_type": "markdown",
   "metadata": {},
   "source": [
    "3. str.capitalize()\n",
    "- Capitalizes the first character of the string."
   ]
  },
  {
   "cell_type": "code",
   "execution_count": 7,
   "metadata": {},
   "outputs": [
    {
     "name": "stdout",
     "output_type": "stream",
     "text": [
      "Hello world\n"
     ]
    }
   ],
   "source": [
    "text = \"HELLO world\"\n",
    "print(text.capitalize())  "
   ]
  },
  {
   "cell_type": "markdown",
   "metadata": {},
   "source": [
    "4. str.title()\n",
    "- Capitalizes the first character of each word in the string."
   ]
  },
  {
   "cell_type": "code",
   "execution_count": 8,
   "metadata": {},
   "outputs": [
    {
     "name": "stdout",
     "output_type": "stream",
     "text": [
      "Hello World\n"
     ]
    }
   ],
   "source": [
    "text = \"HELLO world\"\n",
    "print(text.title())  "
   ]
  },
  {
   "cell_type": "markdown",
   "metadata": {},
   "source": [
    "5. str.strip()\n",
    "- Removes leading and trailing whitespace (spaces, tabs, etc.) from the string.\n",
    "\n",
    "Note : It will remove the left & Right spaces"
   ]
  },
  {
   "cell_type": "code",
   "execution_count": 10,
   "metadata": {},
   "outputs": [
    {
     "name": "stdout",
     "output_type": "stream",
     "text": [
      "HELLO    world\n"
     ]
    }
   ],
   "source": [
    "text = \"        HELLO    world       \"\n",
    "print(text.strip())  "
   ]
  },
  {
   "cell_type": "markdown",
   "metadata": {},
   "source": [
    "6. str.lstrip() and str.rstrip()\n",
    "- lstrip() removes leading whitespace, and rstrip() removes trailing whitespace."
   ]
  },
  {
   "cell_type": "code",
   "execution_count": 14,
   "metadata": {},
   "outputs": [
    {
     "name": "stdout",
     "output_type": "stream",
     "text": [
      "HELLO world       \n",
      "        HELLO world\n"
     ]
    }
   ],
   "source": [
    "text = \"        HELLO world       \"\n",
    "print(text.lstrip())  \n",
    "print(text.rstrip())  "
   ]
  },
  {
   "cell_type": "markdown",
   "metadata": {},
   "source": [
    "7. str.replace(old, new)\n",
    "- Replaces all occurrences of a substring with a new substring."
   ]
  },
  {
   "cell_type": "code",
   "execution_count": 17,
   "metadata": {},
   "outputs": [
    {
     "name": "stdout",
     "output_type": "stream",
     "text": [
      "HELLO WORLD\n",
      "HELLO PAKISTAN\n"
     ]
    }
   ],
   "source": [
    "text = \"HELLO WORLD\"\n",
    "print(text.replace(\"World\", \"PAKISTAN\"))   # not replaces : its case sensentive\n",
    "\n",
    "print(text.replace(\"WORLD\", \"PAKISTAN\")) # Replaced Now"
   ]
  },
  {
   "cell_type": "markdown",
   "metadata": {},
   "source": [
    "8. str.split(separator)\n",
    "- Splits the string into a list of substrings based on the specified separator. By default, it splits by whitespace."
   ]
  },
  {
   "cell_type": "code",
   "execution_count": 18,
   "metadata": {},
   "outputs": [
    {
     "name": "stdout",
     "output_type": "stream",
     "text": [
      "['HELLO', 'WORLD']\n"
     ]
    }
   ],
   "source": [
    "text = \"HELLO WORLD\"\n",
    "print(text.split()) "
   ]
  },
  {
   "cell_type": "markdown",
   "metadata": {},
   "source": [
    "9. str.join(iterable)\n",
    "- Joins the elements of an iterable (like a list) into a single string, with the string acting as a separator."
   ]
  },
  {
   "cell_type": "code",
   "execution_count": 19,
   "metadata": {},
   "outputs": [
    {
     "name": "stdout",
     "output_type": "stream",
     "text": [
      "Hello World\n"
     ]
    }
   ],
   "source": [
    "words = ['Hello', 'World']\n",
    "print(\" \".join(words))  # Hello World"
   ]
  },
  {
   "cell_type": "markdown",
   "metadata": {},
   "source": [
    "10. str.find(substring)\n",
    "- Returns the index of the first occurrence of the substring, or -1 if not found."
   ]
  },
  {
   "cell_type": "code",
   "execution_count": 23,
   "metadata": {},
   "outputs": [
    {
     "name": "stdout",
     "output_type": "stream",
     "text": [
      "-1\n",
      "6\n"
     ]
    }
   ],
   "source": [
    "text = \"HELLO WORLD\"\n",
    "print(text.find(\"World\"))  # -1 : mean not found\n",
    "print(text.find(\"WORLD\"))  # 6 "
   ]
  },
  {
   "cell_type": "markdown",
   "metadata": {},
   "source": [
    "11. str.startswith(prefix) and str.endswith(suffix)\n",
    "- startswith() checks if the string starts with the given prefix.\n",
    "- endswith() checks if the string ends with the given suffix."
   ]
  },
  {
   "cell_type": "code",
   "execution_count": 26,
   "metadata": {},
   "outputs": [
    {
     "name": "stdout",
     "output_type": "stream",
     "text": [
      "True\n",
      "False\n"
     ]
    }
   ],
   "source": [
    "text = \"HELLO WORLD\"\n",
    "print(text.startswith(\"HELLO\"))  #  True\n",
    "print(text.endswith(\"Python\"))  # False"
   ]
  },
  {
   "cell_type": "markdown",
   "metadata": {},
   "source": [
    "12. str.count(substring)\n",
    "- Returns the number of occurrences of the substring in the string."
   ]
  },
  {
   "cell_type": "code",
   "execution_count": 28,
   "metadata": {},
   "outputs": [
    {
     "name": "stdout",
     "output_type": "stream",
     "text": [
      "1\n",
      "0\n"
     ]
    }
   ],
   "source": [
    "text = \"HELLO WORLD\"\n",
    "print(text.count(\"HELLO\"))  # 1\n",
    "print(text.count(\"Python\"))  #  0 : not found"
   ]
  },
  {
   "cell_type": "markdown",
   "metadata": {},
   "source": [
    "13. str.isdigit()\n",
    "- Checks if all characters in the string are digits."
   ]
  },
  {
   "cell_type": "code",
   "execution_count": 29,
   "metadata": {},
   "outputs": [
    {
     "name": "stdout",
     "output_type": "stream",
     "text": [
      "True\n",
      "False\n"
     ]
    }
   ],
   "source": [
    "print(\"12345\".isdigit())  # True\n",
    "print(\"abc123\".isdigit())  # False"
   ]
  },
  {
   "cell_type": "markdown",
   "metadata": {},
   "source": [
    "14. str.isalpha()\n",
    "- Checks if all characters in the string are alphabetic."
   ]
  },
  {
   "cell_type": "code",
   "execution_count": 30,
   "metadata": {},
   "outputs": [
    {
     "name": "stdout",
     "output_type": "stream",
     "text": [
      "True\n",
      "False\n"
     ]
    }
   ],
   "source": [
    "print(\"Hello\".isalpha())  #  True\n",
    "print(\"Hello123\".isalpha())  #  False\n"
   ]
  },
  {
   "cell_type": "markdown",
   "metadata": {},
   "source": [
    "15. str.isalnum()\n",
    "- Checks if all characters in the string are alphanumeric (letters and digits)."
   ]
  },
  {
   "cell_type": "code",
   "execution_count": 32,
   "metadata": {},
   "outputs": [
    {
     "name": "stdout",
     "output_type": "stream",
     "text": [
      "True\n",
      "False\n",
      "True\n",
      "True\n"
     ]
    }
   ],
   "source": [
    "print(\"Hello123\".isalnum())  #  True\n",
    "print(\"Hello 123\".isalnum())  #  False\n",
    "print(\"abcd\".isalnum())  #  True\n",
    "print(\"123\".isalnum())  #  True\n"
   ]
  },
  {
   "cell_type": "markdown",
   "metadata": {},
   "source": [
    "16. str.swapcase()\n",
    "- Swaps the case of all characters in the string (lowercase to uppercase and vice versa)."
   ]
  },
  {
   "cell_type": "code",
   "execution_count": 36,
   "metadata": {},
   "outputs": [
    {
     "name": "stdout",
     "output_type": "stream",
     "text": [
      "hello WORLD\n"
     ]
    }
   ],
   "source": [
    "text = \"HELLO world\"\n",
    "print(text.swapcase()) "
   ]
  },
  {
   "cell_type": "markdown",
   "metadata": {},
   "source": [
    "17. str.zfill(width)\n",
    "- Pads the string on the left with zeros until it reaches the specified width.\n"
   ]
  },
  {
   "cell_type": "code",
   "execution_count": 41,
   "metadata": {},
   "outputs": [
    {
     "name": "stdout",
     "output_type": "stream",
     "text": [
      "00042\n",
      "00abc\n"
     ]
    }
   ],
   "source": [
    "print(\"42\".zfill(5))  # 00042\n",
    "print(\"abc\".zfill(5))  # 00abc\n"
   ]
  },
  {
   "cell_type": "markdown",
   "metadata": {},
   "source": [
    "18. str.center(width)\n",
    "- Centers the string within a field of the specified width, padding with spaces."
   ]
  },
  {
   "cell_type": "code",
   "execution_count": 42,
   "metadata": {},
   "outputs": [
    {
     "name": "stdout",
     "output_type": "stream",
     "text": [
      "    HELLO world     \n"
     ]
    }
   ],
   "source": [
    "print(text.center(20))  # Output: \"   Hello World    \"\n"
   ]
  },
  {
   "cell_type": "markdown",
   "metadata": {},
   "source": [
    "19. str.ljust(width) and str.rjust(width)\n",
    "- ljust() left-aligns the string within a field of the specified width.\n",
    "- rjust() right-aligns the string within a field of the specified width."
   ]
  },
  {
   "cell_type": "code",
   "execution_count": 43,
   "metadata": {},
   "outputs": [
    {
     "name": "stdout",
     "output_type": "stream",
     "text": [
      "HELLO world         \n",
      "         HELLO world\n"
     ]
    }
   ],
   "source": [
    "print(text.ljust(20))  # Output: \"Hello World         \"\n",
    "print(text.rjust(20))  # Output: \"         Hello World\"\n"
   ]
  },
  {
   "cell_type": "markdown",
   "metadata": {},
   "source": [
    "20. str.partition(separator)\n",
    "- Splits the string into three parts: the part before the separator, the separator itself, and the part after the separator."
   ]
  },
  {
   "cell_type": "code",
   "execution_count": 46,
   "metadata": {},
   "outputs": [
    {
     "name": "stdout",
     "output_type": "stream",
     "text": [
      "('HELLO', ' ', 'world')\n"
     ]
    }
   ],
   "source": [
    "text = \"HELLO world\"\n",
    "print(text.partition(\" \"))  # Output: ('Hello ', 'World', '')"
   ]
  },
  {
   "cell_type": "code",
   "execution_count": null,
   "metadata": {},
   "outputs": [],
   "source": []
  }
 ],
 "metadata": {
  "kernelspec": {
   "display_name": "base",
   "language": "python",
   "name": "python3"
  },
  "language_info": {
   "codemirror_mode": {
    "name": "ipython",
    "version": 3
   },
   "file_extension": ".py",
   "mimetype": "text/x-python",
   "name": "python",
   "nbconvert_exporter": "python",
   "pygments_lexer": "ipython3",
   "version": "3.12.4"
  }
 },
 "nbformat": 4,
 "nbformat_minor": 2
}
