{
 "cells": [
  {
   "cell_type": "markdown",
   "metadata": {},
   "source": [
    "# Function in Python\n",
    "- A function is a block of code which only runs when it is called. You can pass data, known as parameters, into a function.\n",
    "- A function is a block of reusable code that performs a specific task. It helps in code reusability, modularity, and better organization."
   ]
  },
  {
   "cell_type": "markdown",
   "metadata": {},
   "source": [
    "# Types of Python Function \n",
    "### There are two main types of Python Functions\n",
    "1. Pre-defined functions\n",
    "2. User defined functions"
   ]
  },
  {
   "cell_type": "markdown",
   "metadata": {},
   "source": [
    "### 1. Pre-defined function or Built-in functions"
   ]
  },
  {
   "cell_type": "code",
   "execution_count": null,
   "metadata": {},
   "outputs": [],
   "source": [
    "print(10)\n",
    "# len()\n",
    "# type()"
   ]
  },
  {
   "cell_type": "markdown",
   "metadata": {},
   "source": [
    "### 2. User defined functions"
   ]
  },
  {
   "cell_type": "code",
   "execution_count": 3,
   "metadata": {},
   "outputs": [
    {
     "name": "stdout",
     "output_type": "stream",
     "text": [
      "Welcome to Digital Neurons!\n",
      "You are learning Python Programming.\n"
     ]
    }
   ],
   "source": [
    "\n",
    "def greet(): # function definition\n",
    "    # function body below ( logic )\n",
    "    print(\"Welcome to Digital Neurons!\")\n",
    "    print(\"You are learning Python Programming.\")\n",
    " \n",
    "# fucntion calling   \n",
    "greet()\n",
    "\n",
    "\n"
   ]
  },
  {
   "cell_type": "markdown",
   "metadata": {},
   "source": [
    "### 1. Function without return keyword"
   ]
  },
  {
   "cell_type": "code",
   "execution_count": 4,
   "metadata": {},
   "outputs": [
    {
     "name": "stdout",
     "output_type": "stream",
     "text": [
      "Welcome to Digital Neurons!\n",
      "You are learning Python Programming.\n",
      "Welcome to Digital Neurons!\n",
      "You are learning Python Programming.\n"
     ]
    }
   ],
   "source": [
    "def greet(): \n",
    "    print(\"Welcome to Digital Neurons!\")\n",
    "    print(\"You are learning Python Programming.\")\n",
    " \n",
    "# fucntion calling   \n",
    "greet()\n",
    "greet()"
   ]
  },
  {
   "cell_type": "markdown",
   "metadata": {},
   "source": [
    "### 2. Function with return keyword\n",
    "- Note: No logic will work after return keyword."
   ]
  },
  {
   "cell_type": "code",
   "execution_count": 16,
   "metadata": {},
   "outputs": [
    {
     "name": "stdout",
     "output_type": "stream",
     "text": [
      "Welcome to Digital Neurons!\n",
      "<class 'str'>\n"
     ]
    }
   ],
   "source": [
    "def greet(): \n",
    "    msg1 = \"Welcome to Digital Neurons!\"\n",
    "    msg2 = \"You are learning Python Programming\"\n",
    "    return msg1 # return string\n",
    "\n",
    "    # return msg1+msg2 # return string in single line \n",
    "    # return msg1, msg2 # return tuple\n",
    "    # return [msg1, msg2] # return list\n",
    " \n",
    "\n",
    "# fucntion calling   \n",
    "print(greet())\n",
    "print(type(greet()))\n"
   ]
  },
  {
   "cell_type": "markdown",
   "metadata": {},
   "source": [
    "### 3. Function with single parameter & Agrument"
   ]
  },
  {
   "cell_type": "code",
   "execution_count": 24,
   "metadata": {},
   "outputs": [
    {
     "name": "stdout",
     "output_type": "stream",
     "text": [
      "Welcome AAbid\n"
     ]
    }
   ],
   "source": [
    "def greet(name): # parameter\n",
    "    print(f\"Welcome {name}\")\n",
    "\n",
    "greet(\"AAbid\") # passign argument"
   ]
  },
  {
   "cell_type": "markdown",
   "metadata": {},
   "source": [
    "### 4. Function with Multiple required parameters & Arguments"
   ]
  },
  {
   "cell_type": "code",
   "execution_count": 29,
   "metadata": {},
   "outputs": [
    {
     "name": "stdout",
     "output_type": "stream",
     "text": [
      "Your fav colors are ('Green', 'Black', 'White')\n",
      "<class 'str'>\n"
     ]
    }
   ],
   "source": [
    "def favColors (c1, c2, c3):\n",
    "    return f\"Your fav colors are {c1,c2,c3}\"\n",
    "\n",
    "output = favColors(\"Green\", \"Black\", \"White\")\n",
    "print(output)\n",
    "print(type(output))"
   ]
  },
  {
   "cell_type": "markdown",
   "metadata": {},
   "source": [
    "### 5. Function with default or optional parameter & argument\n"
   ]
  },
  {
   "cell_type": "code",
   "execution_count": 30,
   "metadata": {},
   "outputs": [
    {
     "name": "stdout",
     "output_type": "stream",
     "text": [
      "Hello, Ali!\n",
      "Hello, Guest!\n"
     ]
    }
   ],
   "source": [
    "def greet(name=\"Guest\"):  # Default value is \"Guest\"\n",
    "    print(f\"Hello, {name}!\")\n",
    "\n",
    "greet(\"Ali\")  # Output: Hello, Ali!\n",
    "greet()       # Output: Hello, Guest! (Uses default value)\n"
   ]
  },
  {
   "cell_type": "markdown",
   "metadata": {},
   "source": [
    "### 6. Function with Arbitary Arguments ( rest parameters)\n",
    "\n",
    "- If you do not know how many arguments that will be passed into your function, add a * before the parameter name in the function definition."
   ]
  },
  {
   "cell_type": "code",
   "execution_count": 37,
   "metadata": {},
   "outputs": [
    {
     "name": "stdout",
     "output_type": "stream",
     "text": [
      "('Python', 'Javascript')\n",
      "('Javascript',)\n",
      "('Java', 'Cpp', 'Python', 'Scala')\n"
     ]
    }
   ],
   "source": [
    "def favLang(*lang):\n",
    "    print(lang) \n",
    "\n",
    "favLang(\"Python\", \"Javascript\")\n",
    "favLang(\"Javascript\")\n",
    "favLang(\"Java\", \"Cpp\", \"Python\", \"Scala\")\n",
    "    "
   ]
  },
  {
   "cell_type": "markdown",
   "metadata": {},
   "source": [
    "### 7. Keyword Arguments\n",
    "- You can also send arguments with the key = value syntax.\n",
    "- This way the order of the arguments does not matter."
   ]
  },
  {
   "cell_type": "code",
   "execution_count": 40,
   "metadata": {},
   "outputs": [
    {
     "name": "stdout",
     "output_type": "stream",
     "text": [
      "My favorite game is Cricket\n",
      "My favorite game is Footbal\n"
     ]
    }
   ],
   "source": [
    "def play(game1, game2, game3)->str:\n",
    "    print( f\"My favorite game is {game2}\")\n",
    "\n",
    "play('Footbal', 'Cricket', 'Tenis') # here Positions metter\n",
    "\n",
    "play(game2=\"Footbal\", game3=\"Cricket\", game1=\"Tennis\") # here position doesn't metter"
   ]
  },
  {
   "cell_type": "markdown",
   "metadata": {},
   "source": [
    "# Function Categories"
   ]
  }
 ],
 "metadata": {
  "kernelspec": {
   "display_name": "Python 3",
   "language": "python",
   "name": "python3"
  },
  "language_info": {
   "codemirror_mode": {
    "name": "ipython",
    "version": 3
   },
   "file_extension": ".py",
   "mimetype": "text/x-python",
   "name": "python",
   "nbconvert_exporter": "python",
   "pygments_lexer": "ipython3",
   "version": "3.13.2"
  }
 },
 "nbformat": 4,
 "nbformat_minor": 2
}
