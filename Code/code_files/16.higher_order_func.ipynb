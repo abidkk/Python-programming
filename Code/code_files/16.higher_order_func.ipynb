{
 "cells": [
  {
   "cell_type": "markdown",
   "id": "d27359f2",
   "metadata": {},
   "source": [
    "# Higher Order Functions in Python\n",
    "\n",
    "Higher-order functions in Python are functions that either:\n",
    "\n",
    "1. Take one or more functions as arguments, or\n",
    "\n",
    "2. Return a function as a result.\n",
    "\n",
    "They’re a key part of functional programming in Python.\n",
    "\n"
   ]
  },
  {
   "cell_type": "markdown",
   "id": "98db78c0",
   "metadata": {},
   "source": [
    "### 1. map()\n",
    "Applies a function to every item in an iterable."
   ]
  },
  {
   "cell_type": "code",
   "execution_count": 4,
   "id": "4b6d56e1",
   "metadata": {},
   "outputs": [
    {
     "name": "stdout",
     "output_type": "stream",
     "text": [
      "[5, 10, 15, 20, 25]\n"
     ]
    }
   ],
   "source": [
    "# Multiple each number\n",
    "\n",
    "def mul(x):\n",
    "    return x*5\n",
    "numbers = [1,2,3,4,5]\n",
    "multipled = list(map(mul,numbers)) # passing mul function and numbers list as argument \n",
    "print(multipled)\n",
    "    \n"
   ]
  },
  {
   "cell_type": "markdown",
   "id": "776774ba",
   "metadata": {},
   "source": [
    "### 2. filter()\n",
    "Filters elements from an iterable based on a condition."
   ]
  },
  {
   "cell_type": "code",
   "execution_count": 2,
   "id": "76546127",
   "metadata": {},
   "outputs": [
    {
     "name": "stdout",
     "output_type": "stream",
     "text": [
      "[2, 4, 6, 8]\n"
     ]
    }
   ],
   "source": [
    "# filtering even Numbers\n",
    "def is_even(x):\n",
    "    return x % 2 == 0 \n",
    "\n",
    "nums = [1,2,3,4,5,6,7,8,9]\n",
    "evens = list(filter(is_even, nums)) # passing function and numbers \n",
    "print(evens)"
   ]
  },
  {
   "cell_type": "markdown",
   "id": "e534bb8f",
   "metadata": {},
   "source": [
    "### 3. reduce()\n",
    "Applies a function cumulatively to the items in a sequence (needs to be imported)."
   ]
  },
  {
   "cell_type": "code",
   "execution_count": 9,
   "id": "fa7a3758",
   "metadata": {},
   "outputs": [
    {
     "name": "stdout",
     "output_type": "stream",
     "text": [
      "120\n"
     ]
    }
   ],
   "source": [
    "from functools import reduce\n",
    "\n",
    "def multi(x,y):\n",
    "    return x * y\n",
    "nums = [1,2,3,4,5]\n",
    "multied = reduce(multi, nums)\n",
    "print(multied)"
   ]
  },
  {
   "cell_type": "markdown",
   "id": "c0596324",
   "metadata": {},
   "source": [
    "### 4.sorted() with a key function\n",
    "Sorts based on a custom function."
   ]
  },
  {
   "cell_type": "code",
   "execution_count": 10,
   "id": "80c92387",
   "metadata": {},
   "outputs": [
    {
     "name": "stdout",
     "output_type": "stream",
     "text": [
      "['Ali', 'Zara', 'Ahmed', 'Fatima']\n"
     ]
    }
   ],
   "source": [
    "names = ['Ali', 'Zara', 'Ahmed', 'Fatima']\n",
    "sorted_names = sorted(names, key=lambda name: len(name))\n",
    "print(sorted_names)  # ['Ali', 'Zara', 'Ahmed', 'Fatima']\n"
   ]
  },
  {
   "cell_type": "markdown",
   "id": "bf99ae1d",
   "metadata": {},
   "source": [
    "### 5. zip Function\n",
    "\n",
    "- It combines multiple iterables (like lists or tuples) element-wise into tuples."
   ]
  },
  {
   "cell_type": "code",
   "execution_count": 14,
   "id": "e68dc642",
   "metadata": {},
   "outputs": [
    {
     "name": "stdout",
     "output_type": "stream",
     "text": [
      "[('Adam', 21), ('Sara', 22), ('Maira', 23), ('AAbid', 24)]\n"
     ]
    }
   ],
   "source": [
    "names = ['Adam', 'Sara', 'Maira', 'AAbid']\n",
    "ages = 21, 22, 23, 24\n",
    "\n",
    "zipped = list(zip(names, ages))\n",
    "\n",
    "print(zipped)"
   ]
  },
  {
   "cell_type": "code",
   "execution_count": null,
   "id": "69d3c4e9",
   "metadata": {},
   "outputs": [],
   "source": []
  },
  {
   "cell_type": "code",
   "execution_count": null,
   "id": "63fd9575",
   "metadata": {},
   "outputs": [],
   "source": []
  }
 ],
 "metadata": {
  "kernelspec": {
   "display_name": "base",
   "language": "python",
   "name": "python3"
  },
  "language_info": {
   "codemirror_mode": {
    "name": "ipython",
    "version": 3
   },
   "file_extension": ".py",
   "mimetype": "text/x-python",
   "name": "python",
   "nbconvert_exporter": "python",
   "pygments_lexer": "ipython3",
   "version": "3.12.7"
  }
 },
 "nbformat": 4,
 "nbformat_minor": 5
}
