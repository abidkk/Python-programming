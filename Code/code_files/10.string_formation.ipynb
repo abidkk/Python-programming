{
 "cells": [
  {
   "cell_type": "markdown",
   "id": "7c58232e",
   "metadata": {},
   "source": [
    "# String Formation & Methods"
   ]
  },
  {
   "cell_type": "markdown",
   "id": "2274bcc3",
   "metadata": {},
   "source": [
    "### 1. F-String"
   ]
  },
  {
   "cell_type": "code",
   "execution_count": 1,
   "id": "74a5e2f7",
   "metadata": {},
   "outputs": [
    {
     "name": "stdout",
     "output_type": "stream",
     "text": [
      "Welcome, Abid Khokhar\n"
     ]
    }
   ],
   "source": [
    "name = \"Abid Khokhar\"\n",
    "print(f\"Welcome, {name}\")"
   ]
  },
  {
   "cell_type": "markdown",
   "id": "f88e95e9",
   "metadata": {},
   "source": [
    "### 2. Multiline String"
   ]
  },
  {
   "cell_type": "code",
   "execution_count": 39,
   "id": "5a0f12bc",
   "metadata": {},
   "outputs": [
    {
     "name": "stdout",
     "output_type": "stream",
     "text": [
      "\n",
      "House no 402,\n",
      "Street no 2,\n",
      "Downtown Karachi, Pakistan\n",
      "\n"
     ]
    }
   ],
   "source": [
    "address = \"\"\"\n",
    "House no 402,\n",
    "Street no 2,\n",
    "Downtown Karachi, Pakistan\n",
    "\"\"\"\n",
    "print(address)"
   ]
  },
  {
   "cell_type": "markdown",
   "id": "be04f6c3",
   "metadata": {},
   "source": [
    "# String Indexing & slicing"
   ]
  },
  {
   "cell_type": "markdown",
   "id": "e85e8174",
   "metadata": {},
   "source": [
    "Length and Datatype Checking"
   ]
  },
  {
   "cell_type": "code",
   "execution_count": 1,
   "id": "b9e5de6b",
   "metadata": {},
   "outputs": [],
   "source": [
    "username = \"AAbid Ali Khokhar\"\n",
    "address = \"North Nazimabad, Karachi, Pakistan\"\n"
   ]
  },
  {
   "cell_type": "code",
   "execution_count": null,
   "id": "4c602717",
   "metadata": {},
   "outputs": [
    {
     "name": "stdout",
     "output_type": "stream",
     "text": [
      "username length: 17, DataType: <class 'str'>\n",
      "address length: 34, DataType: <class 'str'>\n"
     ]
    }
   ],
   "source": [
    "# checking length and datatype\n",
    "print(f\"username length: {len(username)}, DataType: {type(username)}\")\n",
    "print(f\"address length: {len(address)}, DataType: {type(address)}\") "
   ]
  },
  {
   "cell_type": "markdown",
   "id": "941ab0b7",
   "metadata": {},
   "source": [
    "### 1. Indexing : strats from 0"
   ]
  },
  {
   "cell_type": "code",
   "execution_count": 37,
   "id": "37808a51",
   "metadata": {},
   "outputs": [
    {
     "name": "stdout",
     "output_type": "stream",
     "text": [
      "A\n",
      "i\n",
      "o\n",
      "Negetive Indexing\n",
      "r\n",
      "hokhar\n"
     ]
    }
   ],
   "source": [
    "print(username[0]) # A\n",
    "print(username[3]) # i\n",
    "print(username[12]) # o\n",
    "\n",
    "# Negetive Indexing\n",
    "print(\"Negetive Indexing\")\n",
    "print(username[-1]) # r\n",
    "print(username[-6:]) # hokhar"
   ]
  },
  {
   "cell_type": "markdown",
   "id": "84691128",
   "metadata": {},
   "source": [
    "### 2. slicing (start:end:step)"
   ]
  },
  {
   "cell_type": "code",
   "execution_count": 40,
   "id": "f1773e4a",
   "metadata": {},
   "outputs": [
    {
     "name": "stdout",
     "output_type": "stream",
     "text": [
      "AAbid\n",
      "AAbid Ali Khokhar\n",
      "Ali Khokhar\n",
      "AbdAiK\n",
      "AiA oa\n"
     ]
    }
   ],
   "source": [
    "print(username[0:5]) ## AAbid\n",
    "print(username[0:]) ## 0 to end\n",
    "print(username[6:]) # index 6 to end : Ali Khokhar\n",
    "\n",
    "print(username[0:12:2]) # skip every second index\n",
    "print(username[0::3]) # start every third step"
   ]
  }
 ],
 "metadata": {
  "kernelspec": {
   "display_name": "Python 3",
   "language": "python",
   "name": "python3"
  },
  "language_info": {
   "codemirror_mode": {
    "name": "ipython",
    "version": 3
   },
   "file_extension": ".py",
   "mimetype": "text/x-python",
   "name": "python",
   "nbconvert_exporter": "python",
   "pygments_lexer": "ipython3",
   "version": "3.13.2"
  }
 },
 "nbformat": 4,
 "nbformat_minor": 5
}
