{
 "cells": [
  {
   "cell_type": "markdown",
   "metadata": {},
   "source": [
    "\n",
    "# Python Data Types 🐍\n",
    "\n",
    "- Python has two main types of data:\n",
    "\n",
    "    1️⃣ Primitive Data Types (Basic Data Types)\n",
    "\n",
    "    2️⃣ Non-Primitive Data Types (Complex Data Types)\n",
    "\n",
    "\n",
    "\n",
    "### Difference b/w Primitive and Non-Primitive Data Types\n",
    "\n",
    "✅ Primitive Data Types\n",
    "\n",
    "1. Store a single value (e.g., int, float, bool, str).\n",
    "2. Immutable (cannot be changed, only reassigned).\n",
    "3. Simple operations like arithmetic and comparison.\n",
    "4. Stored directly in memory.\n",
    "\n",
    "✅ Non-Primitive Data Types\n",
    "1. Store multiple values (e.g., list, tuple, set, dict).\n",
    "2. Mostly mutable (except tuple).\n",
    "3. Support indexing, iteration, and key-value storage.\n",
    "4. Used for complex data structures.\n",
    "\n",
    "\n",
    "        Note : to check data type use : type() method \n",
    "        example : type(variable_name)"
   ]
  },
  {
   "cell_type": "markdown",
   "metadata": {},
   "source": [
    "# 1️⃣ Primitive Data Types (Basic Data Types)\n",
    "1. string : any value in quotes is string (\"Adam\", \"abc123\", \"123\")\n",
    "2. int : Positive & Negetive Non Decimal Values (100, -100)\n",
    "3. float : Positive & Negetive Decimal Values (10.25, -10.20)\n",
    "4. bool : True & False\n",
    "5. None: Represents absence of a value."
   ]
  },
  {
   "cell_type": "markdown",
   "metadata": {},
   "source": [
    "### Code"
   ]
  },
  {
   "cell_type": "markdown",
   "metadata": {},
   "source": [
    "     1. String"
   ]
  },
  {
   "cell_type": "code",
   "execution_count": 6,
   "metadata": {},
   "outputs": [
    {
     "name": "stdout",
     "output_type": "stream",
     "text": [
      "Adam Sultan cs1001 1100\n",
      "<class 'str'>\n",
      "<class 'str'>\n",
      "<class 'str'>\n"
     ]
    }
   ],
   "source": [
    "# 1. String\n",
    "user_name = \"Adam Sultan\"\n",
    "roll_no = \"cs1001\"\n",
    "user_id = \"1100\"\n",
    "\n",
    "# printing variable\n",
    "print(user_name, roll_no, user_id)\n",
    "\n",
    "# checking data type\n",
    "print(type(user_name))\n",
    "print(type(roll_no))\n",
    "print(type(user_id))\n",
    "\n"
   ]
  },
  {
   "cell_type": "markdown",
   "metadata": {},
   "source": [
    "    2. int  "
   ]
  },
  {
   "cell_type": "code",
   "execution_count": 12,
   "metadata": {},
   "outputs": [
    {
     "name": "stdout",
     "output_type": "stream",
     "text": [
      "100 -200\n",
      "<class 'int'>\n",
      "<class 'int'>\n"
     ]
    }
   ],
   "source": [
    "# int\n",
    "num1 = 100\n",
    "num2 = -200\n",
    "\n",
    "#  printing values\n",
    "print(num1, num2)\n",
    "\n",
    "# Checking data type\n",
    "print(type(num1))\n",
    "print(type(num2))"
   ]
  },
  {
   "cell_type": "markdown",
   "metadata": {},
   "source": [
    "    3. Float"
   ]
  },
  {
   "cell_type": "code",
   "execution_count": 8,
   "metadata": {},
   "outputs": [
    {
     "name": "stdout",
     "output_type": "stream",
     "text": [
      "10.2 -10.2\n",
      "<class 'float'>\n",
      "<class 'float'>\n"
     ]
    }
   ],
   "source": [
    "# Float\n",
    "num1 = 10.20\n",
    "num2 = -10.20\n",
    "\n",
    "#  printing values\n",
    "print(num1, num2)\n",
    "\n",
    "# Checking data type\n",
    "print(type(num1))\n",
    "print(type(num2))"
   ]
  },
  {
   "cell_type": "markdown",
   "metadata": {},
   "source": [
    "    4. Bool : Boolean"
   ]
  },
  {
   "cell_type": "code",
   "execution_count": 9,
   "metadata": {},
   "outputs": [
    {
     "name": "stdout",
     "output_type": "stream",
     "text": [
      "True False\n",
      "<class 'bool'>\n",
      "<class 'bool'>\n"
     ]
    }
   ],
   "source": [
    "# Float\n",
    "is_activated = True\n",
    "is_completed = False\n",
    "\n",
    "#  printing values\n",
    "print(is_activated, is_completed )\n",
    "\n",
    "# Checking data type\n",
    "print(type(is_activated))\n",
    "print(type(is_completed ))"
   ]
  },
  {
   "cell_type": "markdown",
   "metadata": {},
   "source": [
    "    5. None: "
   ]
  },
  {
   "cell_type": "code",
   "execution_count": 11,
   "metadata": {},
   "outputs": [
    {
     "name": "stdout",
     "output_type": "stream",
     "text": [
      "None\n",
      "<class 'NoneType'>\n"
     ]
    }
   ],
   "source": [
    "# None\n",
    "country = None\n",
    "\n",
    "#  printing values\n",
    "print(country) # None\n",
    "\n",
    "# checking data type\n",
    "print(type(country)) # "
   ]
  },
  {
   "cell_type": "markdown",
   "metadata": {},
   "source": [
    "# 2️⃣ Non-Primitive Data Types (Complex Data Types)\n",
    "\n",
    "1. List : An Ordered, Mutable collection of items.\n",
    "2. Set : An Unordered, Mutable collection of unique items.\n",
    "3. Dict: Key Value pairs (Object) Mutable.\n",
    "4. Tuple: Ordered, immutable collection of items."
   ]
  },
  {
   "cell_type": "markdown",
   "metadata": {},
   "source": [
    "    1. List"
   ]
  },
  {
   "cell_type": "code",
   "execution_count": 19,
   "metadata": {},
   "outputs": [
    {
     "name": "stdout",
     "output_type": "stream",
     "text": [
      "['Red', 'Blue', 'Black', 'Orange', 'White']\n",
      "[2, 4, 6, 8, 10, 12, 8, 10, 20]\n",
      "<class 'list'>\n",
      "<class 'list'>\n",
      "8\n",
      "Red\n",
      "White\n"
     ]
    }
   ],
   "source": [
    "# creating list\n",
    "colors = [\"Red\", \"Blue\", \"Black\", \"Orange\", \"White\"] #\n",
    "even_numbers = [2, 4, 6, 8, 10, 12, 8, 10, 20]\n",
    "\n",
    "# printing lists\n",
    "print(colors)\n",
    "print(even_numbers)\n",
    "\n",
    "# type checking\n",
    "print(type(colors))\n",
    "print(type(even_numbers))\n",
    "\n",
    "\n",
    "# Getting Indexing : Get Specific Element\n",
    "print(even_numbers[3]) # 8\n",
    "print(colors[0]) # Red\n",
    "print(colors[4]) # White\n",
    "# print(colors[5]) # Index error \n",
    "\n"
   ]
  },
  {
   "cell_type": "markdown",
   "metadata": {},
   "source": [
    "    2. Set\n",
    "    "
   ]
  },
  {
   "cell_type": "code",
   "execution_count": 30,
   "metadata": {},
   "outputs": [
    {
     "name": "stdout",
     "output_type": "stream",
     "text": [
      "{3, 5, 7, 9, 11, 13, 15, 17, 19}\n",
      "{'Earth', 'Moon', 'Sun', 'Venus', 'Mars'}\n",
      "<class 'set'>\n",
      "<class 'set'>\n",
      "True\n",
      "False\n"
     ]
    }
   ],
   "source": [
    "# creating set\n",
    "setof_odd_nums = {3,5,7,7,9,11,13,15,17,19,11,15}\n",
    "setof_planets = {\"Earth\", \"Mars\", \"Venus\", \"Sun\", \"Moon\"}\n",
    "\n",
    "# Printing Sets\n",
    "print(setof_odd_nums) # repeated nums will be ignored\n",
    "print(setof_planets)\n",
    "\n",
    "# type checkign\n",
    "print(type(setof_odd_nums))\n",
    "print(type(setof_planets))\n",
    "\n",
    "\n",
    "# getting specigic element using index\n",
    "# print(setof_planets[2]) : Not allowed Indexing\n",
    "\n",
    "print(\"Mars\" in setof_planets) # True\n",
    "print(\"Pluto\" in setof_planets) # False"
   ]
  },
  {
   "cell_type": "markdown",
   "metadata": {},
   "source": [
    "# Dict : Dictionary"
   ]
  },
  {
   "cell_type": "code",
   "execution_count": 26,
   "metadata": {},
   "outputs": [
    {
     "name": "stdout",
     "output_type": "stream",
     "text": [
      "{'name': 'AAbid', 'age': 25, 'city': 'Karachi', 'isEnrolled': True}\n",
      "<class 'dict'>\n",
      "Karachi\n"
     ]
    }
   ],
   "source": [
    "# creating dictionary\n",
    "student = {\n",
    "    \"name\": \"AAbid\",\n",
    "    \"age\" : 25,\n",
    "    \"city\" : \"Karachi\",\n",
    "    \"isEnrolled\": True\n",
    "}\n",
    "\n",
    "# Printing Dictionary\n",
    "print(student)\n",
    "\n",
    "\n",
    "# type checking\n",
    "print(type(student))\n",
    "\n",
    "\n",
    "# Assecing specific value using square notation\n",
    "print(student[\"city\"]) # Karachi"
   ]
  },
  {
   "cell_type": "markdown",
   "metadata": {},
   "source": [
    "    4. Tuple\n",
    "\n",
    "✅ Tuples are used when:\n",
    "\n",
    "- You want immutable (unchangeable) data.\n",
    "\n",
    "- You need faster performance than lists.\n",
    "\n",
    "- You need data integrity (e.g., coordinates, configurations).\n",
    "\n",
    "- You want to use it as a dictionary key (since tuples are hashable)."
   ]
  },
  {
   "cell_type": "code",
   "execution_count": 39,
   "metadata": {},
   "outputs": [
    {
     "name": "stdout",
     "output_type": "stream",
     "text": [
      "('Monday', 'Tuesday', 'Wednesday', 'Thursday', 'Friday', 'Saturday', 'Sunday')\n",
      "('Male', 'Female', 'Other')\n",
      "<class 'tuple'>\n",
      "<class 'tuple'>\n",
      "Friday\n"
     ]
    }
   ],
   "source": [
    "# creating tuple\n",
    "days = (\"Monday\", \"Tuesday\", \"Wednesday\", \"Thursday\", \"Friday\", \"Saturday\", \"Sunday\")\n",
    "genders = (\"Male\", \"Female\", \"Other\")\n",
    "\n",
    "# printing tuples\n",
    "print(days)\n",
    "print(genders)\n",
    "\n",
    "# type checking\n",
    "print(type(days))\n",
    "print(type(genders))\n",
    "\n",
    "\n",
    "# Assecing Specigic value\n",
    "print(days[4]) # Friday  "
   ]
  },
  {
   "cell_type": "code",
   "execution_count": null,
   "metadata": {},
   "outputs": [],
   "source": []
  }
 ],
 "metadata": {
  "kernelspec": {
   "display_name": "Python 3",
   "language": "python",
   "name": "python3"
  },
  "language_info": {
   "codemirror_mode": {
    "name": "ipython",
    "version": 3
   },
   "file_extension": ".py",
   "mimetype": "text/x-python",
   "name": "python",
   "nbconvert_exporter": "python",
   "pygments_lexer": "ipython3",
   "version": "3.13.2"
  }
 },
 "nbformat": 4,
 "nbformat_minor": 2
}
