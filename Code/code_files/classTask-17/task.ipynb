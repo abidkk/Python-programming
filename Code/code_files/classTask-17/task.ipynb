{
 "cells": [
  {
   "cell_type": "markdown",
   "id": "15dbf749",
   "metadata": {},
   "source": [
    "- Ali Abid\n",
    "- 380054\n"
   ]
  },
  {
   "cell_type": "markdown",
   "id": "df35a99e",
   "metadata": {},
   "source": [
    "### TASK -1\n",
    "\n",
    "Write a Python program that reads a text file and performs the following:\n",
    " 1. Counts the total number of words and lines.\n",
    " 2. Identifies the top 5 most frequently occurring words (ignoring case and punctuation).\n",
    " 3. Outputs the statistics to a new file called summary.txt."
   ]
  },
  {
   "cell_type": "code",
   "execution_count": 119,
   "metadata": {},
   "outputs": [
    {
     "name": "stdout",
     "output_type": "stream",
     "text": [
      "['OpenAI announced on Friday it’s launching a research preview of Codex, the company’s most capable AI coding agent yet.\\n', 'Codex is powered by codex-1, a version of the company’s o3 AI reasoning model optimized for software engineering tasks. \\n', 'OpenAI says codex-1 produces “cleaner” code than o3, adheres more precisely to instructions, and will iteratively run tests on its code until passing results are achieved.\\n', 'The Codex agent runs in a sandboxed, virtual computer in the cloud. \\n', 'By connecting with GitHub, Codex’s environment can come preloaded with your code repositories. \\n', 'OpenAI says the AI coding agent will take anywhere from one to 30 minutes to write simple features, fix bugs, answer questions about your codebase, and run tests, among other tasks.']\n",
      "6\n",
      "Total words: 124\n",
      "the 5\n",
      "openai 3\n",
      "a 3\n",
      "ai 3\n",
      "agent 3\n"
     ]
    }
   ],
   "source": [
    "from collections import Counter\n",
    "\n",
    "with open(\"data1.txt\", 'r') as file:\n",
    "    content = file.readlines()\n",
    "    print(content)\n",
    "    \n",
    "    # Calculating lines\n",
    "    noOfLines = len(content)\n",
    "    print(noOfLines)\n",
    "    \n",
    "    # calculating words\n",
    "    wordsCount = 1\n",
    "    \n",
    "    for line in content:\n",
    "        words = len(line.split(\" \"))\n",
    "        wordsCount += words\n",
    "    print(f\"Total words: {wordsCount}\")\n",
    "    \n",
    "    \n",
    "    \n",
    "    # filtering most frequent word\n",
    "    all_words = []\n",
    "    for sentence in content:\n",
    "        words = sentence.lower().split()\n",
    "        all_words.extend(words)\n",
    "    # count freq\n",
    "    count = Counter(all_words)\n",
    "    top_5 = count.most_common(5)\n",
    "    for word, count in top_5:\n",
    "        print(word, count)\n",
    "        \n",
    "\n",
    "    with open(\"summary.txt\", \"w\") as file:\n",
    "        # file.write(all_words)\n",
    "        for word in all_words:\n",
    "            file.write(f\" {word} \")\n",
    "            \n",
    "        file.write(\"\\n\")\n",
    "        # file.write(top_5)\n",
    "        for word, freq in top_5:\n",
    "            file.write(f\"\\n {word} {freq} \")\n",
    "        "
   ]
  },
  {
   "cell_type": "markdown",
   "id": "5fbf54fd",
   "metadata": {},
   "source": [
    "### Task 2"
   ]
  },
  {
   "cell_type": "code",
   "execution_count": 144,
   "id": "2db6abba",
   "metadata": {},
   "outputs": [
    {
     "name": "stdout",
     "output_type": "stream",
     "text": [
      "{'name': 'Charlie', 'age': 20, 'score': 90}\n",
      "{'name': 'Eve', 'age': 21, 'score': 90}\n",
      "{'name': 'Bob', 'age': 22, 'score': 90}\n",
      "{'name': 'Alice', 'age': 20, 'score': 85}\n",
      "{'name': 'David', 'age': 22, 'score': 85}\n"
     ]
    }
   ],
   "source": [
    "def sort_students(students: list[dict[str]]) -> list[dict[str]]:\n",
    "\n",
    "    return sorted(students, key=lambda s: (-s['score'], s['age'], s['name']))\n",
    "\n",
    "\n",
    "students = [\n",
    "    {\"name\": \"Alice\", \"age\": 20, \"score\": 85},\n",
    "    {\"name\": \"Bob\", \"age\": 22, \"score\": 90},\n",
    "    {\"name\": \"Charlie\", \"age\": 20, \"score\": 90},\n",
    "    {\"name\": \"David\", \"age\": 22, \"score\": 85},\n",
    "    {\"name\": \"Eve\", \"age\": 21, \"score\": 90}\n",
    "]\n",
    "\n",
    "sorted_students = sort_students(students)\n",
    "for student in sorted_students:\n",
    "    print(student)\n"
   ]
  },
  {
   "cell_type": "markdown",
   "id": "0fb09a03",
   "metadata": {},
   "source": [
    "### Task 3"
   ]
  },
  {
   "cell_type": "code",
   "execution_count": 146,
   "id": "e7642d15",
   "metadata": {},
   "outputs": [
    {
     "name": "stdout",
     "output_type": "stream",
     "text": [
      "abid@example.com: True\n",
      "digitalneurons.com: Error - Email must contain exactly one '@' character.\n",
      "admin@domain: Error - Email domain must contain at least one '.' after '@'.\n",
      "user@site.c: Error - Email domain extension must be at least 3 characters long.\n"
     ]
    }
   ],
   "source": [
    "def validate_email(email):\n",
    "    # Contains exactly one '@'\n",
    "    if email.count('@') != 1:\n",
    "        raise ValueError(\"Email must contain exactly one '@' character.\")\n",
    "    \n",
    "    local_part, domain_part = email.split('@')\n",
    "\n",
    "    # At least one '.' after the '@'\n",
    "    if '.' not in domain_part:\n",
    "        raise ValueError(\"Email domain must contain at least one '.' after '@'.\")\n",
    "\n",
    "    # Domain (after last dot) should be at least 3 characters long\n",
    "    domain_extension = domain_part.split('.')[-1]\n",
    "    if len(domain_extension) < 3:\n",
    "        raise ValueError(\"Email domain extension must be at least 3 characters long.\")\n",
    "\n",
    "    return True\n",
    "\n",
    "# examples\n",
    "emails = [\n",
    "    \"abid@example.com\",    \n",
    "    \"digitalneurons.com\",     \n",
    "    \"admin@domain\",          \n",
    "    \"user@site.c\",          \n",
    "]\n",
    "\n",
    "for email in emails:\n",
    "    try:\n",
    "        print(f\"{email}: {validate_email(email)}\")\n",
    "    except ValueError as e:\n",
    "        print(f\"{email}: Error - {e}\")\n"
   ]
  },
  {
   "cell_type": "code",
   "execution_count": null,
   "id": "4e8bb1bb",
   "metadata": {},
   "outputs": [],
   "source": []
  }
 ],
 "metadata": {
  "kernelspec": {
   "display_name": "DJCRM",
   "language": "python",
   "name": "python3"
  },
  "language_info": {
   "codemirror_mode": {
    "name": "ipython",
    "version": 3
   },
   "file_extension": ".py",
   "mimetype": "text/x-python",
   "name": "python",
   "nbconvert_exporter": "python",
   "pygments_lexer": "ipython3",
   "version": "3.13.2"
  }
 },
 "nbformat": 4,
 "nbformat_minor": 5
}
